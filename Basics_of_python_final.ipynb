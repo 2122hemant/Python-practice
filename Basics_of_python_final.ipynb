{
 "cells": [
  {
   "cell_type": "markdown",
   "id": "924e03e7",
   "metadata": {},
   "source": [
    "# Get the Type\n",
    "You can get the data type of a variable with the type() function."
   ]
  },
  {
   "cell_type": "code",
   "execution_count": 5,
   "id": "89fa9360",
   "metadata": {},
   "outputs": [],
   "source": [
    "a=10"
   ]
  },
  {
   "cell_type": "code",
   "execution_count": 2,
   "id": "a8eda854",
   "metadata": {},
   "outputs": [
    {
     "data": {
      "text/plain": [
       "int"
      ]
     },
     "execution_count": 2,
     "metadata": {},
     "output_type": "execute_result"
    }
   ],
   "source": [
    "type(a)"
   ]
  },
  {
   "cell_type": "code",
   "execution_count": 3,
   "id": "5e41ca77",
   "metadata": {},
   "outputs": [
    {
     "data": {
      "text/plain": [
       "int"
      ]
     },
     "execution_count": 3,
     "metadata": {},
     "output_type": "execute_result"
    }
   ],
   "source": [
    "type(345)"
   ]
  },
  {
   "cell_type": "code",
   "execution_count": 6,
   "id": "f278b9ec",
   "metadata": {},
   "outputs": [
    {
     "name": "stdout",
     "output_type": "stream",
     "text": [
      "pooja\n",
      "<class 'str'>\n"
     ]
    }
   ],
   "source": [
    "z='pooja'\n",
    "print(z)\n",
    "print(type(z))"
   ]
  },
  {
   "cell_type": "raw",
   "id": "83749179",
   "metadata": {},
   "source": [
    "# python"
   ]
  },
  {
   "cell_type": "code",
   "execution_count": 7,
   "id": "0bd61335",
   "metadata": {},
   "outputs": [],
   "source": [
    "y=\"Singh\""
   ]
  },
  {
   "cell_type": "code",
   "execution_count": 8,
   "id": "9fb924c6",
   "metadata": {},
   "outputs": [
    {
     "data": {
      "text/plain": [
       "'Singh'"
      ]
     },
     "execution_count": 8,
     "metadata": {},
     "output_type": "execute_result"
    }
   ],
   "source": [
    "y"
   ]
  },
  {
   "cell_type": "code",
   "execution_count": 9,
   "id": "babd3328",
   "metadata": {},
   "outputs": [
    {
     "ename": "NameError",
     "evalue": "name 'x' is not defined",
     "output_type": "error",
     "traceback": [
      "\u001b[1;31m---------------------------------------------------------------------------\u001b[0m",
      "\u001b[1;31mNameError\u001b[0m                                 Traceback (most recent call last)",
      "Cell \u001b[1;32mIn[9], line 1\u001b[0m\n\u001b[1;32m----> 1\u001b[0m x\n",
      "\u001b[1;31mNameError\u001b[0m: name 'x' is not defined"
     ]
    }
   ],
   "source": [
    "x"
   ]
  },
  {
   "cell_type": "code",
   "execution_count": 10,
   "id": "ae2c611e",
   "metadata": {},
   "outputs": [],
   "source": [
    "c=True"
   ]
  },
  {
   "cell_type": "code",
   "execution_count": 11,
   "id": "38315f0d",
   "metadata": {},
   "outputs": [
    {
     "data": {
      "text/plain": [
       "bool"
      ]
     },
     "execution_count": 11,
     "metadata": {},
     "output_type": "execute_result"
    }
   ],
   "source": [
    "type(c)"
   ]
  },
  {
   "cell_type": "code",
   "execution_count": 12,
   "id": "9db03228",
   "metadata": {},
   "outputs": [],
   "source": [
    "c=False"
   ]
  },
  {
   "cell_type": "code",
   "execution_count": 13,
   "id": "0bce9a46",
   "metadata": {},
   "outputs": [
    {
     "data": {
      "text/plain": [
       "bool"
      ]
     },
     "execution_count": 13,
     "metadata": {},
     "output_type": "execute_result"
    }
   ],
   "source": [
    "type(c)"
   ]
  },
  {
   "cell_type": "code",
   "execution_count": 62,
   "id": "0cc1069b",
   "metadata": {},
   "outputs": [],
   "source": [
    "b=12.34"
   ]
  },
  {
   "cell_type": "code",
   "execution_count": 63,
   "id": "e6aaa3f8",
   "metadata": {},
   "outputs": [
    {
     "data": {
      "text/plain": [
       "float"
      ]
     },
     "execution_count": 63,
     "metadata": {},
     "output_type": "execute_result"
    }
   ],
   "source": [
    "type(b)"
   ]
  },
  {
   "cell_type": "code",
   "execution_count": null,
   "id": "4e60c954",
   "metadata": {},
   "outputs": [],
   "source": []
  },
  {
   "cell_type": "code",
   "execution_count": null,
   "id": "133cda9d",
   "metadata": {},
   "outputs": [],
   "source": []
  },
  {
   "cell_type": "code",
   "execution_count": null,
   "id": "a3a666e9",
   "metadata": {},
   "outputs": [],
   "source": []
  },
  {
   "cell_type": "code",
   "execution_count": null,
   "id": "ce55699c",
   "metadata": {},
   "outputs": [],
   "source": []
  },
  {
   "cell_type": "markdown",
   "id": "4ec40d3e",
   "metadata": {},
   "source": [
    "# Variable Names\n",
    "- A variable can have a short name (like x and y) or a more descriptive name (age, carname, total_volume). Rules for Python variables:\n",
    "\n",
    "- A variable name must start with a letter or the underscore character\n",
    "\n",
    "- A variable name cannot start with a number\n",
    "\n",
    "- A variable name can only contain alpha-numeric characters and underscores (A-z, 0-9, and _ )\n",
    "\n",
    "- Variable names are case-sensitive (age, Age and AGE are three different variables)\n",
    "\n",
    "- A variable name cannot be any of the Python keywords."
   ]
  },
  {
   "cell_type": "code",
   "execution_count": 14,
   "id": "396cdb4f",
   "metadata": {},
   "outputs": [],
   "source": [
    "age=10"
   ]
  },
  {
   "cell_type": "code",
   "execution_count": 15,
   "id": "36b6d077",
   "metadata": {},
   "outputs": [
    {
     "data": {
      "text/plain": [
       "10"
      ]
     },
     "execution_count": 15,
     "metadata": {},
     "output_type": "execute_result"
    }
   ],
   "source": [
    "age\n"
   ]
  },
  {
   "cell_type": "code",
   "execution_count": 17,
   "id": "3f866b5b",
   "metadata": {},
   "outputs": [
    {
     "ename": "SyntaxError",
     "evalue": "invalid decimal literal (930818929.py, line 1)",
     "output_type": "error",
     "traceback": [
      "\u001b[1;36m  Cell \u001b[1;32mIn[17], line 1\u001b[1;36m\u001b[0m\n\u001b[1;33m    4age=20\u001b[0m\n\u001b[1;37m    ^\u001b[0m\n\u001b[1;31mSyntaxError\u001b[0m\u001b[1;31m:\u001b[0m invalid decimal literal\n"
     ]
    }
   ],
   "source": [
    "4age=20"
   ]
  },
  {
   "cell_type": "code",
   "execution_count": 18,
   "id": "66a84ad4",
   "metadata": {},
   "outputs": [],
   "source": [
    "_4age=30"
   ]
  },
  {
   "cell_type": "code",
   "execution_count": 19,
   "id": "1dd40a63",
   "metadata": {},
   "outputs": [
    {
     "data": {
      "text/plain": [
       "30"
      ]
     },
     "execution_count": 19,
     "metadata": {},
     "output_type": "execute_result"
    }
   ],
   "source": [
    "_4age"
   ]
  },
  {
   "cell_type": "code",
   "execution_count": 21,
   "id": "7c8a5aef",
   "metadata": {},
   "outputs": [],
   "source": [
    "total_sum =100"
   ]
  },
  {
   "cell_type": "code",
   "execution_count": 23,
   "id": "9cacec4d",
   "metadata": {},
   "outputs": [],
   "source": [
    "age=10"
   ]
  },
  {
   "cell_type": "code",
   "execution_count": 25,
   "id": "236a0d1d",
   "metadata": {},
   "outputs": [],
   "source": [
    "Age =20"
   ]
  },
  {
   "cell_type": "code",
   "execution_count": 26,
   "id": "d877718f",
   "metadata": {},
   "outputs": [],
   "source": [
    "aGe=30\n"
   ]
  },
  {
   "cell_type": "code",
   "execution_count": 27,
   "id": "4bbccce0",
   "metadata": {},
   "outputs": [],
   "source": [
    "AGE=40"
   ]
  },
  {
   "cell_type": "code",
   "execution_count": 28,
   "id": "9217697b",
   "metadata": {},
   "outputs": [],
   "source": [
    "import keyword"
   ]
  },
  {
   "cell_type": "code",
   "execution_count": 29,
   "id": "f1a0fb83",
   "metadata": {},
   "outputs": [
    {
     "data": {
      "text/plain": [
       "['False',\n",
       " 'None',\n",
       " 'True',\n",
       " 'and',\n",
       " 'as',\n",
       " 'assert',\n",
       " 'async',\n",
       " 'await',\n",
       " 'break',\n",
       " 'class',\n",
       " 'continue',\n",
       " 'def',\n",
       " 'del',\n",
       " 'elif',\n",
       " 'else',\n",
       " 'except',\n",
       " 'finally',\n",
       " 'for',\n",
       " 'from',\n",
       " 'global',\n",
       " 'if',\n",
       " 'import',\n",
       " 'in',\n",
       " 'is',\n",
       " 'lambda',\n",
       " 'nonlocal',\n",
       " 'not',\n",
       " 'or',\n",
       " 'pass',\n",
       " 'raise',\n",
       " 'return',\n",
       " 'try',\n",
       " 'while',\n",
       " 'with',\n",
       " 'yield']"
      ]
     },
     "execution_count": 29,
     "metadata": {},
     "output_type": "execute_result"
    }
   ],
   "source": [
    "keyword.kwlist"
   ]
  },
  {
   "cell_type": "code",
   "execution_count": 31,
   "id": "941e87e3",
   "metadata": {},
   "outputs": [
    {
     "data": {
      "text/plain": [
       "float"
      ]
     },
     "execution_count": 31,
     "metadata": {},
     "output_type": "execute_result"
    }
   ],
   "source": [
    "type(b)"
   ]
  },
  {
   "cell_type": "markdown",
   "id": "b5c1778f",
   "metadata": {},
   "source": [
    "# Output Variables\n",
    "The Python print() function is often used to output variables."
   ]
  },
  {
   "cell_type": "code",
   "execution_count": 33,
   "id": "08345c1a",
   "metadata": {},
   "outputs": [
    {
     "name": "stdout",
     "output_type": "stream",
     "text": [
      "10\n"
     ]
    }
   ],
   "source": [
    "print(age)"
   ]
  },
  {
   "cell_type": "code",
   "execution_count": 34,
   "id": "92808441",
   "metadata": {},
   "outputs": [
    {
     "name": "stdout",
     "output_type": "stream",
     "text": [
      "40\n"
     ]
    }
   ],
   "source": [
    "print(AGE)"
   ]
  },
  {
   "cell_type": "code",
   "execution_count": 37,
   "id": "9e4780ad",
   "metadata": {},
   "outputs": [
    {
     "name": "stdout",
     "output_type": "stream",
     "text": [
      "My age is  10 , 40\n"
     ]
    }
   ],
   "source": [
    "print(\"My age is \",age,\",\",AGE)"
   ]
  },
  {
   "cell_type": "markdown",
   "id": "77d4646b",
   "metadata": {},
   "source": [
    "# Many Values to Multiple Variables\n",
    "Python allows you to assign values to multiple variables in one line:"
   ]
  },
  {
   "cell_type": "code",
   "execution_count": 38,
   "id": "9d18fb0a",
   "metadata": {},
   "outputs": [],
   "source": [
    "a=10\n",
    "b=20\n",
    "c=30"
   ]
  },
  {
   "cell_type": "code",
   "execution_count": 39,
   "id": "339809cf",
   "metadata": {},
   "outputs": [
    {
     "name": "stdout",
     "output_type": "stream",
     "text": [
      "a= 10 \n",
      "b= 20 \n",
      "c= 30\n"
     ]
    }
   ],
   "source": [
    "print(\"a=\",a,\"\\nb=\",b,\"\\nc=\",c)"
   ]
  },
  {
   "cell_type": "code",
   "execution_count": 40,
   "id": "b4177e69",
   "metadata": {},
   "outputs": [],
   "source": [
    "x,y,z=20,10,30"
   ]
  },
  {
   "cell_type": "code",
   "execution_count": 41,
   "id": "b6b0c499",
   "metadata": {},
   "outputs": [
    {
     "name": "stdout",
     "output_type": "stream",
     "text": [
      "x= 20 \n",
      "y= 10 \n",
      "z= 30\n"
     ]
    }
   ],
   "source": [
    "print(\"x=\",x,\"\\ny=\",y,\"\\nz=\",z)"
   ]
  },
  {
   "cell_type": "code",
   "execution_count": 42,
   "id": "c2d20df3",
   "metadata": {},
   "outputs": [],
   "source": [
    "age,name=26,'pooja'"
   ]
  },
  {
   "cell_type": "code",
   "execution_count": 43,
   "id": "bc02e720",
   "metadata": {},
   "outputs": [
    {
     "name": "stdout",
     "output_type": "stream",
     "text": [
      "My name is  pooja  and I am  26  years old.\n"
     ]
    }
   ],
   "source": [
    "print(\"My name is \",name,\" and I am \",age,\" years old.\")"
   ]
  },
  {
   "cell_type": "markdown",
   "id": "f7c3d04e",
   "metadata": {},
   "source": [
    "# One Value to Multiple Variables\n",
    "And you can assign the same value to multiple variables in one line:"
   ]
  },
  {
   "cell_type": "code",
   "execution_count": 44,
   "id": "18d58d3a",
   "metadata": {},
   "outputs": [],
   "source": [
    "a=10\n",
    "b=10\n",
    "c=10"
   ]
  },
  {
   "cell_type": "code",
   "execution_count": 48,
   "id": "dbb31766",
   "metadata": {},
   "outputs": [],
   "source": [
    "a=b=c=20"
   ]
  },
  {
   "cell_type": "code",
   "execution_count": 49,
   "id": "0a64774c",
   "metadata": {},
   "outputs": [
    {
     "data": {
      "text/plain": [
       "20"
      ]
     },
     "execution_count": 49,
     "metadata": {},
     "output_type": "execute_result"
    }
   ],
   "source": [
    "a"
   ]
  },
  {
   "cell_type": "code",
   "execution_count": 50,
   "id": "65c7428d",
   "metadata": {},
   "outputs": [
    {
     "data": {
      "text/plain": [
       "20"
      ]
     },
     "execution_count": 50,
     "metadata": {},
     "output_type": "execute_result"
    }
   ],
   "source": [
    "b"
   ]
  },
  {
   "cell_type": "code",
   "execution_count": 51,
   "id": "965648b5",
   "metadata": {},
   "outputs": [
    {
     "data": {
      "text/plain": [
       "20"
      ]
     },
     "execution_count": 51,
     "metadata": {},
     "output_type": "execute_result"
    }
   ],
   "source": [
    "c"
   ]
  },
  {
   "cell_type": "markdown",
   "id": "2cda7578",
   "metadata": {},
   "source": [
    "# Python Comments"
   ]
  },
  {
   "cell_type": "code",
   "execution_count": 52,
   "id": "53e63a0e",
   "metadata": {},
   "outputs": [],
   "source": [
    "#- for single line comment"
   ]
  },
  {
   "cell_type": "code",
   "execution_count": 55,
   "id": "2c530560",
   "metadata": {},
   "outputs": [
    {
     "name": "stdout",
     "output_type": "stream",
     "text": [
      "abc\n"
     ]
    }
   ],
   "source": [
    "a,b=10,\"abc\"\n",
    "#print(a)\n",
    "print(b)"
   ]
  },
  {
   "cell_type": "raw",
   "id": "d1c480b0",
   "metadata": {},
   "source": [
    "\"\"\"\"\"\"/'''''' for multiline comment"
   ]
  },
  {
   "cell_type": "code",
   "execution_count": 56,
   "id": "6fe7a494",
   "metadata": {},
   "outputs": [
    {
     "name": "stdout",
     "output_type": "stream",
     "text": [
      "Hello\n"
     ]
    }
   ],
   "source": [
    "a,b=10,\"abc\"\n",
    "'''print(a)\n",
    "print(b)'''\n",
    "\n",
    "print(\"Hello\")"
   ]
  },
  {
   "cell_type": "markdown",
   "id": "99421e55",
   "metadata": {},
   "source": [
    "# Data Types\n",
    "- In programming, data type is an important concept.\n",
    "\n",
    "- Variables can store data of different types, and different types can do different things.\n",
    "\n",
    "- Python has the following data types built-in by default, in these categories:\n",
    "\n",
    "- Text Type: str \n",
    "- Numeric Types: int, float, complex\n",
    "\n",
    "- Sequence Types: list, tuple, range \n",
    "- Mapping Type: dict \n",
    "- Set Types: set, frozenset\n",
    "\n",
    "- Boolean Type: bool\n",
    "\n",
    "- Binary Types: bytes, bytearray, memoryview\n",
    "\n",
    "- None Type: NoneType\n",
    "\n",
    "​"
   ]
  },
  {
   "cell_type": "markdown",
   "id": "1d9f598e",
   "metadata": {},
   "source": [
    "# Single or Double Quotes\n",
    "String variables can be declared either by using single or double quotes:"
   ]
  },
  {
   "cell_type": "code",
   "execution_count": 72,
   "id": "eeb76a28",
   "metadata": {},
   "outputs": [],
   "source": [
    "name=\"pooja\""
   ]
  },
  {
   "cell_type": "code",
   "execution_count": 58,
   "id": "9d4ca309",
   "metadata": {},
   "outputs": [
    {
     "name": "stdout",
     "output_type": "stream",
     "text": [
      "pooja\n"
     ]
    }
   ],
   "source": [
    "print(name)"
   ]
  },
  {
   "cell_type": "code",
   "execution_count": 59,
   "id": "0d6445a8",
   "metadata": {},
   "outputs": [],
   "source": [
    "_name='Tanisha'"
   ]
  },
  {
   "cell_type": "code",
   "execution_count": 60,
   "id": "8e499b09",
   "metadata": {},
   "outputs": [
    {
     "name": "stdout",
     "output_type": "stream",
     "text": [
      "Tanisha\n"
     ]
    }
   ],
   "source": [
    "print(_name)"
   ]
  },
  {
   "cell_type": "markdown",
   "id": "5e63b9f1",
   "metadata": {},
   "source": [
    "# Python Numbers\n",
    "There are three numeric types in Python:\n",
    "\n",
    "- int \n",
    "- float \n",
    "- complex"
   ]
  },
  {
   "cell_type": "code",
   "execution_count": 64,
   "id": "973d37da",
   "metadata": {},
   "outputs": [],
   "source": [
    "n=1000"
   ]
  },
  {
   "cell_type": "code",
   "execution_count": 65,
   "id": "ac8ce5ae",
   "metadata": {},
   "outputs": [
    {
     "data": {
      "text/plain": [
       "int"
      ]
     },
     "execution_count": 65,
     "metadata": {},
     "output_type": "execute_result"
    }
   ],
   "source": [
    "type(n)"
   ]
  },
  {
   "cell_type": "code",
   "execution_count": null,
   "id": "5ffb8ef1",
   "metadata": {},
   "outputs": [],
   "source": []
  },
  {
   "cell_type": "code",
   "execution_count": 66,
   "id": "4339647c",
   "metadata": {},
   "outputs": [],
   "source": [
    "x=36.78"
   ]
  },
  {
   "cell_type": "code",
   "execution_count": 67,
   "id": "efe00c8f",
   "metadata": {},
   "outputs": [
    {
     "data": {
      "text/plain": [
       "float"
      ]
     },
     "execution_count": 67,
     "metadata": {},
     "output_type": "execute_result"
    }
   ],
   "source": [
    "type(x)"
   ]
  },
  {
   "cell_type": "code",
   "execution_count": 68,
   "id": "7040304d",
   "metadata": {},
   "outputs": [],
   "source": [
    "z=3+2j"
   ]
  },
  {
   "cell_type": "code",
   "execution_count": 69,
   "id": "e9104e91",
   "metadata": {},
   "outputs": [
    {
     "data": {
      "text/plain": [
       "complex"
      ]
     },
     "execution_count": 69,
     "metadata": {},
     "output_type": "execute_result"
    }
   ],
   "source": [
    "type(z)"
   ]
  },
  {
   "cell_type": "code",
   "execution_count": 70,
   "id": "28165040",
   "metadata": {},
   "outputs": [
    {
     "data": {
      "text/plain": [
       "3.0"
      ]
     },
     "execution_count": 70,
     "metadata": {},
     "output_type": "execute_result"
    }
   ],
   "source": [
    "z.real"
   ]
  },
  {
   "cell_type": "code",
   "execution_count": 71,
   "id": "7ff302a0",
   "metadata": {},
   "outputs": [
    {
     "data": {
      "text/plain": [
       "2.0"
      ]
     },
     "execution_count": 71,
     "metadata": {},
     "output_type": "execute_result"
    }
   ],
   "source": [
    "z.imag"
   ]
  },
  {
   "cell_type": "markdown",
   "id": "acaabad7",
   "metadata": {},
   "source": [
    "# Python Booleans\n",
    "- Booleans represent one of two values: True or False.\n",
    "- In programming you often need to know if an expression is True or False.\n",
    "- When you compare two values, the expression is evaluated and Python returns the Boolean answer:True or False."
   ]
  },
  {
   "cell_type": "code",
   "execution_count": 78,
   "id": "7ea73cf1",
   "metadata": {},
   "outputs": [
    {
     "data": {
      "text/plain": [
       "False"
      ]
     },
     "execution_count": 78,
     "metadata": {},
     "output_type": "execute_result"
    }
   ],
   "source": [
    "10>20"
   ]
  },
  {
   "cell_type": "code",
   "execution_count": 79,
   "id": "b4a15649",
   "metadata": {},
   "outputs": [
    {
     "data": {
      "text/plain": [
       "True"
      ]
     },
     "execution_count": 79,
     "metadata": {},
     "output_type": "execute_result"
    }
   ],
   "source": [
    "20==20"
   ]
  },
  {
   "cell_type": "code",
   "execution_count": null,
   "id": "dca7a734",
   "metadata": {},
   "outputs": [],
   "source": []
  },
  {
   "cell_type": "code",
   "execution_count": null,
   "id": "2cf8cb35",
   "metadata": {},
   "outputs": [],
   "source": []
  },
  {
   "cell_type": "markdown",
   "id": "1edb5dd2",
   "metadata": {},
   "source": [
    "# Python None Keyword\n",
    "- The None keyword is used to define a null value, or no value at all.\n",
    "\n",
    "- None is not the same as 0, False, or an empty string. None is a data type of its own (NoneType) and only None can be None."
   ]
  },
  {
   "cell_type": "code",
   "execution_count": 80,
   "id": "a9587dd0",
   "metadata": {},
   "outputs": [],
   "source": [
    "x=None"
   ]
  },
  {
   "cell_type": "code",
   "execution_count": 81,
   "id": "8a4b03e2",
   "metadata": {},
   "outputs": [
    {
     "data": {
      "text/plain": [
       "False"
      ]
     },
     "execution_count": 81,
     "metadata": {},
     "output_type": "execute_result"
    }
   ],
   "source": [
    "x==0"
   ]
  },
  {
   "cell_type": "code",
   "execution_count": 82,
   "id": "74dffa10",
   "metadata": {},
   "outputs": [
    {
     "data": {
      "text/plain": [
       "False"
      ]
     },
     "execution_count": 82,
     "metadata": {},
     "output_type": "execute_result"
    }
   ],
   "source": [
    "x=='Null'"
   ]
  },
  {
   "cell_type": "markdown",
   "id": "829be218",
   "metadata": {},
   "source": [
    "# Casting\n",
    "If you want to specify the data type of a variable, this can be done with casting."
   ]
  },
  {
   "cell_type": "code",
   "execution_count": 83,
   "id": "eadd8abb",
   "metadata": {},
   "outputs": [],
   "source": [
    "x=10"
   ]
  },
  {
   "cell_type": "code",
   "execution_count": 99,
   "id": "f7888c4b",
   "metadata": {},
   "outputs": [
    {
     "name": "stdout",
     "output_type": "stream",
     "text": [
      "Enter the number30\n"
     ]
    }
   ],
   "source": [
    "y=input(\"Enter the number\")"
   ]
  },
  {
   "cell_type": "code",
   "execution_count": 100,
   "id": "68a62d0b",
   "metadata": {},
   "outputs": [
    {
     "data": {
      "text/plain": [
       "'30'"
      ]
     },
     "execution_count": 100,
     "metadata": {},
     "output_type": "execute_result"
    }
   ],
   "source": [
    "y"
   ]
  },
  {
   "cell_type": "code",
   "execution_count": 101,
   "id": "63bc1f32",
   "metadata": {},
   "outputs": [
    {
     "data": {
      "text/plain": [
       "str"
      ]
     },
     "execution_count": 101,
     "metadata": {},
     "output_type": "execute_result"
    }
   ],
   "source": [
    "type(y)"
   ]
  },
  {
   "cell_type": "code",
   "execution_count": 104,
   "id": "8103bc66",
   "metadata": {},
   "outputs": [],
   "source": [
    "y=int(y)"
   ]
  },
  {
   "cell_type": "code",
   "execution_count": 105,
   "id": "0a52b2ce",
   "metadata": {},
   "outputs": [
    {
     "data": {
      "text/plain": [
       "30"
      ]
     },
     "execution_count": 105,
     "metadata": {},
     "output_type": "execute_result"
    }
   ],
   "source": [
    "y"
   ]
  },
  {
   "cell_type": "code",
   "execution_count": 110,
   "id": "7bb5874e",
   "metadata": {},
   "outputs": [
    {
     "name": "stdout",
     "output_type": "stream",
     "text": [
      "Enter the number40\n"
     ]
    }
   ],
   "source": [
    "z=int(input(\"Enter the number\"))"
   ]
  },
  {
   "cell_type": "code",
   "execution_count": 107,
   "id": "1a7dbf2d",
   "metadata": {},
   "outputs": [
    {
     "data": {
      "text/plain": [
       "40"
      ]
     },
     "execution_count": 107,
     "metadata": {},
     "output_type": "execute_result"
    }
   ],
   "source": [
    "z"
   ]
  },
  {
   "cell_type": "code",
   "execution_count": 108,
   "id": "224abc31",
   "metadata": {},
   "outputs": [
    {
     "ename": "ValueError",
     "evalue": "invalid literal for int() with base 10: 'poo1234'",
     "output_type": "error",
     "traceback": [
      "\u001b[1;31m---------------------------------------------------------------------------\u001b[0m",
      "\u001b[1;31mValueError\u001b[0m                                Traceback (most recent call last)",
      "Cell \u001b[1;32mIn[108], line 1\u001b[0m\n\u001b[1;32m----> 1\u001b[0m \u001b[38;5;28mint\u001b[39m(\u001b[38;5;124m'\u001b[39m\u001b[38;5;124mpoo1234\u001b[39m\u001b[38;5;124m'\u001b[39m)\n",
      "\u001b[1;31mValueError\u001b[0m: invalid literal for int() with base 10: 'poo1234'"
     ]
    }
   ],
   "source": [
    "int('poo1234')"
   ]
  },
  {
   "cell_type": "code",
   "execution_count": 111,
   "id": "1e9dc9b2",
   "metadata": {},
   "outputs": [
    {
     "name": "stdout",
     "output_type": "stream",
     "text": [
      "Enter the numbersjdg\n"
     ]
    },
    {
     "ename": "ValueError",
     "evalue": "invalid literal for int() with base 10: 'sjdg'",
     "output_type": "error",
     "traceback": [
      "\u001b[1;31m---------------------------------------------------------------------------\u001b[0m",
      "\u001b[1;31mValueError\u001b[0m                                Traceback (most recent call last)",
      "Cell \u001b[1;32mIn[111], line 1\u001b[0m\n\u001b[1;32m----> 1\u001b[0m z\u001b[38;5;241m=\u001b[39m\u001b[38;5;28mint\u001b[39m(\u001b[38;5;28minput\u001b[39m(\u001b[38;5;124m\"\u001b[39m\u001b[38;5;124mEnter the number\u001b[39m\u001b[38;5;124m\"\u001b[39m))\n",
      "\u001b[1;31mValueError\u001b[0m: invalid literal for int() with base 10: 'sjdg'"
     ]
    }
   ],
   "source": [
    "z=int(input(\"Enter the number\"))"
   ]
  },
  {
   "cell_type": "code",
   "execution_count": 112,
   "id": "a39ba990",
   "metadata": {},
   "outputs": [
    {
     "data": {
      "text/plain": [
       "'23'"
      ]
     },
     "execution_count": 112,
     "metadata": {},
     "output_type": "execute_result"
    }
   ],
   "source": [
    "#int/float/complex to str\n",
    "str(23)"
   ]
  },
  {
   "cell_type": "code",
   "execution_count": 114,
   "id": "55b03afa",
   "metadata": {},
   "outputs": [
    {
     "data": {
      "text/plain": [
       "float"
      ]
     },
     "execution_count": 114,
     "metadata": {},
     "output_type": "execute_result"
    }
   ],
   "source": [
    "x=23.34\n",
    "type(x)"
   ]
  },
  {
   "cell_type": "code",
   "execution_count": 116,
   "id": "8def2283",
   "metadata": {},
   "outputs": [],
   "source": [
    "x=str(x)"
   ]
  },
  {
   "cell_type": "code",
   "execution_count": 117,
   "id": "f9b6b6dd",
   "metadata": {},
   "outputs": [
    {
     "data": {
      "text/plain": [
       "str"
      ]
     },
     "execution_count": 117,
     "metadata": {},
     "output_type": "execute_result"
    }
   ],
   "source": [
    "type(x)"
   ]
  },
  {
   "cell_type": "code",
   "execution_count": 118,
   "id": "2ab567e6",
   "metadata": {},
   "outputs": [],
   "source": [
    "c = 2+5j"
   ]
  },
  {
   "cell_type": "code",
   "execution_count": 120,
   "id": "61e8f71b",
   "metadata": {},
   "outputs": [
    {
     "data": {
      "text/plain": [
       "complex"
      ]
     },
     "execution_count": 120,
     "metadata": {},
     "output_type": "execute_result"
    }
   ],
   "source": [
    "type(c)"
   ]
  },
  {
   "cell_type": "code",
   "execution_count": 123,
   "id": "dd14eca8",
   "metadata": {},
   "outputs": [
    {
     "data": {
      "text/plain": [
       "'(2+5j)'"
      ]
     },
     "execution_count": 123,
     "metadata": {},
     "output_type": "execute_result"
    }
   ],
   "source": [
    "c=str(c)\n",
    "c"
   ]
  },
  {
   "cell_type": "code",
   "execution_count": 122,
   "id": "c59f462a",
   "metadata": {},
   "outputs": [
    {
     "data": {
      "text/plain": [
       "str"
      ]
     },
     "execution_count": 122,
     "metadata": {},
     "output_type": "execute_result"
    }
   ],
   "source": [
    "type(c)"
   ]
  },
  {
   "cell_type": "code",
   "execution_count": 125,
   "id": "c6cd6248",
   "metadata": {},
   "outputs": [
    {
     "data": {
      "text/plain": [
       "int"
      ]
     },
     "execution_count": 125,
     "metadata": {},
     "output_type": "execute_result"
    }
   ],
   "source": [
    "#int to float\n",
    "x=20\n",
    "type(x)"
   ]
  },
  {
   "cell_type": "code",
   "execution_count": 129,
   "id": "b82d9420",
   "metadata": {},
   "outputs": [
    {
     "data": {
      "text/plain": [
       "20.0"
      ]
     },
     "execution_count": 129,
     "metadata": {},
     "output_type": "execute_result"
    }
   ],
   "source": [
    "x=float(x)\n",
    "x"
   ]
  },
  {
   "cell_type": "code",
   "execution_count": 130,
   "id": "124412bc",
   "metadata": {},
   "outputs": [
    {
     "data": {
      "text/plain": [
       "float"
      ]
     },
     "execution_count": 130,
     "metadata": {},
     "output_type": "execute_result"
    }
   ],
   "source": [
    "type(x)"
   ]
  },
  {
   "cell_type": "code",
   "execution_count": 134,
   "id": "ece6e9a9",
   "metadata": {},
   "outputs": [
    {
     "data": {
      "text/plain": [
       "float"
      ]
     },
     "execution_count": 134,
     "metadata": {},
     "output_type": "execute_result"
    }
   ],
   "source": [
    "f=20.65\n",
    "type(f)"
   ]
  },
  {
   "cell_type": "code",
   "execution_count": 135,
   "id": "d2e1b469",
   "metadata": {},
   "outputs": [
    {
     "data": {
      "text/plain": [
       "int"
      ]
     },
     "execution_count": 135,
     "metadata": {},
     "output_type": "execute_result"
    }
   ],
   "source": [
    "f=int(f)\n",
    "type(f)"
   ]
  },
  {
   "cell_type": "code",
   "execution_count": 136,
   "id": "d2094c19",
   "metadata": {},
   "outputs": [
    {
     "data": {
      "text/plain": [
       "20"
      ]
     },
     "execution_count": 136,
     "metadata": {},
     "output_type": "execute_result"
    }
   ],
   "source": [
    "#int to complex\n",
    "f"
   ]
  },
  {
   "cell_type": "code",
   "execution_count": 137,
   "id": "bdfcb4d4",
   "metadata": {},
   "outputs": [
    {
     "data": {
      "text/plain": [
       "(20+0j)"
      ]
     },
     "execution_count": 137,
     "metadata": {},
     "output_type": "execute_result"
    }
   ],
   "source": [
    "complex(f)"
   ]
  },
  {
   "cell_type": "code",
   "execution_count": 138,
   "id": "59075d0b",
   "metadata": {},
   "outputs": [
    {
     "data": {
      "text/plain": [
       "complex"
      ]
     },
     "execution_count": 138,
     "metadata": {},
     "output_type": "execute_result"
    }
   ],
   "source": [
    "# complex to int/float\n",
    "z=5+10j\n",
    "type(z)"
   ]
  },
  {
   "cell_type": "code",
   "execution_count": 139,
   "id": "91628152",
   "metadata": {},
   "outputs": [
    {
     "ename": "TypeError",
     "evalue": "int() argument must be a string, a bytes-like object or a real number, not 'complex'",
     "output_type": "error",
     "traceback": [
      "\u001b[1;31m---------------------------------------------------------------------------\u001b[0m",
      "\u001b[1;31mTypeError\u001b[0m                                 Traceback (most recent call last)",
      "Cell \u001b[1;32mIn[139], line 1\u001b[0m\n\u001b[1;32m----> 1\u001b[0m \u001b[38;5;28mint\u001b[39m(z)\n",
      "\u001b[1;31mTypeError\u001b[0m: int() argument must be a string, a bytes-like object or a real number, not 'complex'"
     ]
    }
   ],
   "source": [
    "int(z)"
   ]
  },
  {
   "cell_type": "code",
   "execution_count": 140,
   "id": "0fa604fa",
   "metadata": {},
   "outputs": [
    {
     "ename": "TypeError",
     "evalue": "float() argument must be a string or a real number, not 'complex'",
     "output_type": "error",
     "traceback": [
      "\u001b[1;31m---------------------------------------------------------------------------\u001b[0m",
      "\u001b[1;31mTypeError\u001b[0m                                 Traceback (most recent call last)",
      "Cell \u001b[1;32mIn[140], line 1\u001b[0m\n\u001b[1;32m----> 1\u001b[0m \u001b[38;5;28mfloat\u001b[39m(z)\n",
      "\u001b[1;31mTypeError\u001b[0m: float() argument must be a string or a real number, not 'complex'"
     ]
    }
   ],
   "source": [
    "float(z)"
   ]
  },
  {
   "cell_type": "code",
   "execution_count": 141,
   "id": "565703b7",
   "metadata": {},
   "outputs": [
    {
     "data": {
      "text/plain": [
       "(20+0j)"
      ]
     },
     "execution_count": 141,
     "metadata": {},
     "output_type": "execute_result"
    }
   ],
   "source": [
    "complex('20')"
   ]
  },
  {
   "cell_type": "code",
   "execution_count": 142,
   "id": "0ebba67e",
   "metadata": {},
   "outputs": [
    {
     "ename": "ValueError",
     "evalue": "complex() arg is a malformed string",
     "output_type": "error",
     "traceback": [
      "\u001b[1;31m---------------------------------------------------------------------------\u001b[0m",
      "\u001b[1;31mValueError\u001b[0m                                Traceback (most recent call last)",
      "Cell \u001b[1;32mIn[142], line 1\u001b[0m\n\u001b[1;32m----> 1\u001b[0m \u001b[38;5;28mcomplex\u001b[39m(\u001b[38;5;124m'\u001b[39m\u001b[38;5;124mpoo\u001b[39m\u001b[38;5;124m'\u001b[39m)\n",
      "\u001b[1;31mValueError\u001b[0m: complex() arg is a malformed string"
     ]
    }
   ],
   "source": [
    "complex('poo')"
   ]
  },
  {
   "cell_type": "code",
   "execution_count": null,
   "id": "f229a4fd",
   "metadata": {},
   "outputs": [],
   "source": []
  },
  {
   "cell_type": "markdown",
   "id": "0ff4a612",
   "metadata": {},
   "source": [
    "# Most Values are True\n",
    "- Almost any value is evaluated to True if it has some sort of content.\n",
    "\n",
    "- Any string is True, except empty strings.\n",
    "\n",
    "- Any number is True, except 0.\n",
    "\n",
    "- Any list, tuple, set, and dictionary are True, except empty ones."
   ]
  },
  {
   "cell_type": "markdown",
   "id": "6f7bd9ce",
   "metadata": {},
   "source": [
    "# Some Values are False\n",
    "In fact, there are not many values that evaluate to False, except empty values, such as (), [], {}, \"\", the number 0, and the value None. And of course the value False evaluates to False."
   ]
  },
  {
   "cell_type": "code",
   "execution_count": 143,
   "id": "a79f1388",
   "metadata": {},
   "outputs": [
    {
     "data": {
      "text/plain": [
       "True"
      ]
     },
     "execution_count": 143,
     "metadata": {},
     "output_type": "execute_result"
    }
   ],
   "source": [
    "bool(1)"
   ]
  },
  {
   "cell_type": "code",
   "execution_count": 144,
   "id": "a8f559ff",
   "metadata": {},
   "outputs": [
    {
     "data": {
      "text/plain": [
       "False"
      ]
     },
     "execution_count": 144,
     "metadata": {},
     "output_type": "execute_result"
    }
   ],
   "source": [
    "bool(0)"
   ]
  },
  {
   "cell_type": "code",
   "execution_count": 146,
   "id": "1b157f9d",
   "metadata": {},
   "outputs": [
    {
     "data": {
      "text/plain": [
       "True"
      ]
     },
     "execution_count": 146,
     "metadata": {},
     "output_type": "execute_result"
    }
   ],
   "source": [
    "bool(12345566779898)"
   ]
  },
  {
   "cell_type": "code",
   "execution_count": 147,
   "id": "d905fb8f",
   "metadata": {},
   "outputs": [
    {
     "data": {
      "text/plain": [
       "False"
      ]
     },
     "execution_count": 147,
     "metadata": {},
     "output_type": "execute_result"
    }
   ],
   "source": [
    "bool()"
   ]
  },
  {
   "cell_type": "code",
   "execution_count": 148,
   "id": "5f60d628",
   "metadata": {},
   "outputs": [
    {
     "data": {
      "text/plain": [
       "True"
      ]
     },
     "execution_count": 148,
     "metadata": {},
     "output_type": "execute_result"
    }
   ],
   "source": [
    "bool(\"abc\")"
   ]
  },
  {
   "cell_type": "code",
   "execution_count": 149,
   "id": "43179434",
   "metadata": {},
   "outputs": [
    {
     "data": {
      "text/plain": [
       "True"
      ]
     },
     "execution_count": 149,
     "metadata": {},
     "output_type": "execute_result"
    }
   ],
   "source": [
    "bool([\"apple\", \"cherry\", \"banana\"])"
   ]
  },
  {
   "cell_type": "code",
   "execution_count": 150,
   "id": "a1f7c104",
   "metadata": {},
   "outputs": [
    {
     "data": {
      "text/plain": [
       "False"
      ]
     },
     "execution_count": 150,
     "metadata": {},
     "output_type": "execute_result"
    }
   ],
   "source": [
    "bool(None)"
   ]
  },
  {
   "cell_type": "code",
   "execution_count": 151,
   "id": "0ef5410e",
   "metadata": {},
   "outputs": [
    {
     "data": {
      "text/plain": [
       "False"
      ]
     },
     "execution_count": 151,
     "metadata": {},
     "output_type": "execute_result"
    }
   ],
   "source": [
    "bool(False)"
   ]
  },
  {
   "cell_type": "code",
   "execution_count": 153,
   "id": "e7ec095d",
   "metadata": {},
   "outputs": [
    {
     "data": {
      "text/plain": [
       "False"
      ]
     },
     "execution_count": 153,
     "metadata": {},
     "output_type": "execute_result"
    }
   ],
   "source": [
    "bool(\"\")"
   ]
  },
  {
   "cell_type": "code",
   "execution_count": 154,
   "id": "2a23a643",
   "metadata": {},
   "outputs": [
    {
     "data": {
      "text/plain": [
       "False"
      ]
     },
     "execution_count": 154,
     "metadata": {},
     "output_type": "execute_result"
    }
   ],
   "source": [
    "bool(())\n"
   ]
  },
  {
   "cell_type": "code",
   "execution_count": 155,
   "id": "cf30d906",
   "metadata": {},
   "outputs": [
    {
     "data": {
      "text/plain": [
       "False"
      ]
     },
     "execution_count": 155,
     "metadata": {},
     "output_type": "execute_result"
    }
   ],
   "source": [
    "bool([])\n"
   ]
  },
  {
   "cell_type": "code",
   "execution_count": 156,
   "id": "18d9b9c9",
   "metadata": {},
   "outputs": [
    {
     "data": {
      "text/plain": [
       "False"
      ]
     },
     "execution_count": 156,
     "metadata": {},
     "output_type": "execute_result"
    }
   ],
   "source": [
    "bool({})"
   ]
  },
  {
   "cell_type": "code",
   "execution_count": 157,
   "id": "fa96d31d",
   "metadata": {},
   "outputs": [
    {
     "data": {
      "text/plain": [
       "1"
      ]
     },
     "execution_count": 157,
     "metadata": {},
     "output_type": "execute_result"
    }
   ],
   "source": [
    "int(True)"
   ]
  },
  {
   "cell_type": "code",
   "execution_count": 158,
   "id": "8835a673",
   "metadata": {},
   "outputs": [
    {
     "data": {
      "text/plain": [
       "0"
      ]
     },
     "execution_count": 158,
     "metadata": {},
     "output_type": "execute_result"
    }
   ],
   "source": [
    "int(False)"
   ]
  },
  {
   "cell_type": "code",
   "execution_count": 159,
   "id": "29ecbc66",
   "metadata": {},
   "outputs": [
    {
     "data": {
      "text/plain": [
       "1.0"
      ]
     },
     "execution_count": 159,
     "metadata": {},
     "output_type": "execute_result"
    }
   ],
   "source": [
    "float(True)"
   ]
  },
  {
   "cell_type": "code",
   "execution_count": 160,
   "id": "f528f547",
   "metadata": {},
   "outputs": [
    {
     "data": {
      "text/plain": [
       "0j"
      ]
     },
     "execution_count": 160,
     "metadata": {},
     "output_type": "execute_result"
    }
   ],
   "source": [
    "complex(False)"
   ]
  },
  {
   "cell_type": "code",
   "execution_count": null,
   "id": "e15e7c7c",
   "metadata": {},
   "outputs": [],
   "source": []
  }
 ],
 "metadata": {
  "kernelspec": {
   "display_name": "Python 3 (ipykernel)",
   "language": "python",
   "name": "python3"
  },
  "language_info": {
   "codemirror_mode": {
    "name": "ipython",
    "version": 3
   },
   "file_extension": ".py",
   "mimetype": "text/x-python",
   "name": "python",
   "nbconvert_exporter": "python",
   "pygments_lexer": "ipython3",
   "version": "3.11.5"
  }
 },
 "nbformat": 4,
 "nbformat_minor": 5
}
