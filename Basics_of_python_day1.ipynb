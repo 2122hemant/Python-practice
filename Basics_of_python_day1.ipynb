{
 "cells": [
  {
   "cell_type": "markdown",
   "id": "d52bc344",
   "metadata": {},
   "source": [
    "# Get the Type\n",
    "You can get the data type of a variable with the type() function."
   ]
  },
  {
   "cell_type": "code",
   "execution_count": 5,
   "id": "ec045bed",
   "metadata": {},
   "outputs": [],
   "source": [
    "a=10"
   ]
  },
  {
   "cell_type": "code",
   "execution_count": 2,
   "id": "bc5c5eea",
   "metadata": {},
   "outputs": [
    {
     "data": {
      "text/plain": [
       "int"
      ]
     },
     "execution_count": 2,
     "metadata": {},
     "output_type": "execute_result"
    }
   ],
   "source": [
    "type(a)"
   ]
  },
  {
   "cell_type": "code",
   "execution_count": 3,
   "id": "0bea03c4",
   "metadata": {},
   "outputs": [
    {
     "data": {
      "text/plain": [
       "int"
      ]
     },
     "execution_count": 3,
     "metadata": {},
     "output_type": "execute_result"
    }
   ],
   "source": [
    "type(345)"
   ]
  },
  {
   "cell_type": "code",
   "execution_count": 6,
   "id": "591f03db",
   "metadata": {},
   "outputs": [
    {
     "name": "stdout",
     "output_type": "stream",
     "text": [
      "pooja\n",
      "<class 'str'>\n"
     ]
    }
   ],
   "source": [
    "z='pooja'\n",
    "print(z)\n",
    "print(type(z))"
   ]
  },
  {
   "cell_type": "raw",
   "id": "9e6cf948",
   "metadata": {},
   "source": [
    "# python"
   ]
  },
  {
   "cell_type": "code",
   "execution_count": 7,
   "id": "63b045dc",
   "metadata": {},
   "outputs": [],
   "source": [
    "y=\"Singh\""
   ]
  },
  {
   "cell_type": "code",
   "execution_count": 8,
   "id": "692a6fff",
   "metadata": {},
   "outputs": [
    {
     "data": {
      "text/plain": [
       "'Singh'"
      ]
     },
     "execution_count": 8,
     "metadata": {},
     "output_type": "execute_result"
    }
   ],
   "source": [
    "y"
   ]
  },
  {
   "cell_type": "code",
   "execution_count": 9,
   "id": "a8066bf9",
   "metadata": {},
   "outputs": [
    {
     "ename": "NameError",
     "evalue": "name 'x' is not defined",
     "output_type": "error",
     "traceback": [
      "\u001b[1;31m---------------------------------------------------------------------------\u001b[0m",
      "\u001b[1;31mNameError\u001b[0m                                 Traceback (most recent call last)",
      "Cell \u001b[1;32mIn[9], line 1\u001b[0m\n\u001b[1;32m----> 1\u001b[0m x\n",
      "\u001b[1;31mNameError\u001b[0m: name 'x' is not defined"
     ]
    }
   ],
   "source": [
    "x"
   ]
  },
  {
   "cell_type": "code",
   "execution_count": 10,
   "id": "9d742d82",
   "metadata": {},
   "outputs": [],
   "source": [
    "c=True"
   ]
  },
  {
   "cell_type": "code",
   "execution_count": 11,
   "id": "9e19f6f0",
   "metadata": {},
   "outputs": [
    {
     "data": {
      "text/plain": [
       "bool"
      ]
     },
     "execution_count": 11,
     "metadata": {},
     "output_type": "execute_result"
    }
   ],
   "source": [
    "type(c)"
   ]
  },
  {
   "cell_type": "code",
   "execution_count": 12,
   "id": "1a3e01f7",
   "metadata": {},
   "outputs": [],
   "source": [
    "c=False"
   ]
  },
  {
   "cell_type": "code",
   "execution_count": 13,
   "id": "c4d8a56b",
   "metadata": {},
   "outputs": [
    {
     "data": {
      "text/plain": [
       "bool"
      ]
     },
     "execution_count": 13,
     "metadata": {},
     "output_type": "execute_result"
    }
   ],
   "source": [
    "type(c)"
   ]
  },
  {
   "cell_type": "code",
   "execution_count": 62,
   "id": "9d00acee",
   "metadata": {},
   "outputs": [],
   "source": [
    "b=12.34"
   ]
  },
  {
   "cell_type": "code",
   "execution_count": 63,
   "id": "53fd3a44",
   "metadata": {},
   "outputs": [
    {
     "data": {
      "text/plain": [
       "float"
      ]
     },
     "execution_count": 63,
     "metadata": {},
     "output_type": "execute_result"
    }
   ],
   "source": [
    "type(b)"
   ]
  },
  {
   "cell_type": "code",
   "execution_count": null,
   "id": "66740ebc",
   "metadata": {},
   "outputs": [],
   "source": []
  },
  {
   "cell_type": "code",
   "execution_count": null,
   "id": "394feb83",
   "metadata": {},
   "outputs": [],
   "source": []
  },
  {
   "cell_type": "code",
   "execution_count": null,
   "id": "8596f2c6",
   "metadata": {},
   "outputs": [],
   "source": []
  },
  {
   "cell_type": "code",
   "execution_count": null,
   "id": "7274dccc",
   "metadata": {},
   "outputs": [],
   "source": []
  },
  {
   "cell_type": "markdown",
   "id": "c91c5591",
   "metadata": {},
   "source": [
    "# Variable Names\n",
    "- A variable can have a short name (like x and y) or a more descriptive name (age, carname, total_volume). Rules for Python variables:\n",
    "\n",
    "- A variable name must start with a letter or the underscore character\n",
    "\n",
    "- A variable name cannot start with a number\n",
    "\n",
    "- A variable name can only contain alpha-numeric characters and underscores (A-z, 0-9, and _ )\n",
    "\n",
    "- Variable names are case-sensitive (age, Age and AGE are three different variables)\n",
    "\n",
    "- A variable name cannot be any of the Python keywords."
   ]
  },
  {
   "cell_type": "code",
   "execution_count": 14,
   "id": "78ee3bca",
   "metadata": {},
   "outputs": [],
   "source": [
    "age=10"
   ]
  },
  {
   "cell_type": "code",
   "execution_count": 15,
   "id": "511c5c16",
   "metadata": {},
   "outputs": [
    {
     "data": {
      "text/plain": [
       "10"
      ]
     },
     "execution_count": 15,
     "metadata": {},
     "output_type": "execute_result"
    }
   ],
   "source": [
    "age\n"
   ]
  },
  {
   "cell_type": "code",
   "execution_count": 17,
   "id": "0bfd42da",
   "metadata": {},
   "outputs": [
    {
     "ename": "SyntaxError",
     "evalue": "invalid decimal literal (930818929.py, line 1)",
     "output_type": "error",
     "traceback": [
      "\u001b[1;36m  Cell \u001b[1;32mIn[17], line 1\u001b[1;36m\u001b[0m\n\u001b[1;33m    4age=20\u001b[0m\n\u001b[1;37m    ^\u001b[0m\n\u001b[1;31mSyntaxError\u001b[0m\u001b[1;31m:\u001b[0m invalid decimal literal\n"
     ]
    }
   ],
   "source": [
    "4age=20"
   ]
  },
  {
   "cell_type": "code",
   "execution_count": 18,
   "id": "02aefa45",
   "metadata": {},
   "outputs": [],
   "source": [
    "_4age=30"
   ]
  },
  {
   "cell_type": "code",
   "execution_count": 19,
   "id": "b57eb27b",
   "metadata": {},
   "outputs": [
    {
     "data": {
      "text/plain": [
       "30"
      ]
     },
     "execution_count": 19,
     "metadata": {},
     "output_type": "execute_result"
    }
   ],
   "source": [
    "_4age"
   ]
  },
  {
   "cell_type": "code",
   "execution_count": 21,
   "id": "34089aa6",
   "metadata": {},
   "outputs": [],
   "source": [
    "total_sum =100"
   ]
  },
  {
   "cell_type": "code",
   "execution_count": 23,
   "id": "35818eb5",
   "metadata": {},
   "outputs": [],
   "source": [
    "age=10"
   ]
  },
  {
   "cell_type": "code",
   "execution_count": 25,
   "id": "c07285ee",
   "metadata": {},
   "outputs": [],
   "source": [
    "Age =20"
   ]
  },
  {
   "cell_type": "code",
   "execution_count": 26,
   "id": "5b2e8d10",
   "metadata": {},
   "outputs": [],
   "source": [
    "aGe=30\n"
   ]
  },
  {
   "cell_type": "code",
   "execution_count": 27,
   "id": "0df3be66",
   "metadata": {},
   "outputs": [],
   "source": [
    "AGE=40"
   ]
  },
  {
   "cell_type": "code",
   "execution_count": 28,
   "id": "31be7b98",
   "metadata": {},
   "outputs": [],
   "source": [
    "import keyword"
   ]
  },
  {
   "cell_type": "code",
   "execution_count": 29,
   "id": "db304256",
   "metadata": {},
   "outputs": [
    {
     "data": {
      "text/plain": [
       "['False',\n",
       " 'None',\n",
       " 'True',\n",
       " 'and',\n",
       " 'as',\n",
       " 'assert',\n",
       " 'async',\n",
       " 'await',\n",
       " 'break',\n",
       " 'class',\n",
       " 'continue',\n",
       " 'def',\n",
       " 'del',\n",
       " 'elif',\n",
       " 'else',\n",
       " 'except',\n",
       " 'finally',\n",
       " 'for',\n",
       " 'from',\n",
       " 'global',\n",
       " 'if',\n",
       " 'import',\n",
       " 'in',\n",
       " 'is',\n",
       " 'lambda',\n",
       " 'nonlocal',\n",
       " 'not',\n",
       " 'or',\n",
       " 'pass',\n",
       " 'raise',\n",
       " 'return',\n",
       " 'try',\n",
       " 'while',\n",
       " 'with',\n",
       " 'yield']"
      ]
     },
     "execution_count": 29,
     "metadata": {},
     "output_type": "execute_result"
    }
   ],
   "source": [
    "keyword.kwlist"
   ]
  },
  {
   "cell_type": "code",
   "execution_count": 31,
   "id": "215bbe48",
   "metadata": {},
   "outputs": [
    {
     "data": {
      "text/plain": [
       "float"
      ]
     },
     "execution_count": 31,
     "metadata": {},
     "output_type": "execute_result"
    }
   ],
   "source": [
    "type(b)"
   ]
  },
  {
   "cell_type": "markdown",
   "id": "d84baf04",
   "metadata": {},
   "source": [
    "# Output Variables\n",
    "The Python print() function is often used to output variables."
   ]
  },
  {
   "cell_type": "code",
   "execution_count": 33,
   "id": "23cfcd44",
   "metadata": {},
   "outputs": [
    {
     "name": "stdout",
     "output_type": "stream",
     "text": [
      "10\n"
     ]
    }
   ],
   "source": [
    "print(age)"
   ]
  },
  {
   "cell_type": "code",
   "execution_count": 34,
   "id": "671e858b",
   "metadata": {},
   "outputs": [
    {
     "name": "stdout",
     "output_type": "stream",
     "text": [
      "40\n"
     ]
    }
   ],
   "source": [
    "print(AGE)"
   ]
  },
  {
   "cell_type": "code",
   "execution_count": 37,
   "id": "8a234c4a",
   "metadata": {},
   "outputs": [
    {
     "name": "stdout",
     "output_type": "stream",
     "text": [
      "My age is  10 , 40\n"
     ]
    }
   ],
   "source": [
    "print(\"My age is \",age,\",\",AGE)"
   ]
  },
  {
   "cell_type": "markdown",
   "id": "ce16ce44",
   "metadata": {},
   "source": [
    "# Many Values to Multiple Variables\n",
    "Python allows you to assign values to multiple variables in one line:"
   ]
  },
  {
   "cell_type": "code",
   "execution_count": 38,
   "id": "a19babe4",
   "metadata": {},
   "outputs": [],
   "source": [
    "a=10\n",
    "b=20\n",
    "c=30"
   ]
  },
  {
   "cell_type": "code",
   "execution_count": 39,
   "id": "042572b4",
   "metadata": {},
   "outputs": [
    {
     "name": "stdout",
     "output_type": "stream",
     "text": [
      "a= 10 \n",
      "b= 20 \n",
      "c= 30\n"
     ]
    }
   ],
   "source": [
    "print(\"a=\",a,\"\\nb=\",b,\"\\nc=\",c)"
   ]
  },
  {
   "cell_type": "code",
   "execution_count": 40,
   "id": "c11a520d",
   "metadata": {},
   "outputs": [],
   "source": [
    "x,y,z=20,10,30"
   ]
  },
  {
   "cell_type": "code",
   "execution_count": 41,
   "id": "520a67c9",
   "metadata": {},
   "outputs": [
    {
     "name": "stdout",
     "output_type": "stream",
     "text": [
      "x= 20 \n",
      "y= 10 \n",
      "z= 30\n"
     ]
    }
   ],
   "source": [
    "print(\"x=\",x,\"\\ny=\",y,\"\\nz=\",z)"
   ]
  },
  {
   "cell_type": "code",
   "execution_count": 42,
   "id": "89393669",
   "metadata": {},
   "outputs": [],
   "source": [
    "age,name=26,'pooja'"
   ]
  },
  {
   "cell_type": "code",
   "execution_count": 43,
   "id": "10cc05b4",
   "metadata": {},
   "outputs": [
    {
     "name": "stdout",
     "output_type": "stream",
     "text": [
      "My name is  pooja  and I am  26  years old.\n"
     ]
    }
   ],
   "source": [
    "print(\"My name is \",name,\" and I am \",age,\" years old.\")"
   ]
  },
  {
   "cell_type": "markdown",
   "id": "a8dcaa34",
   "metadata": {},
   "source": [
    "# One Value to Multiple Variables\n",
    "And you can assign the same value to multiple variables in one line:"
   ]
  },
  {
   "cell_type": "code",
   "execution_count": 44,
   "id": "6613841a",
   "metadata": {},
   "outputs": [],
   "source": [
    "a=10\n",
    "b=10\n",
    "c=10"
   ]
  },
  {
   "cell_type": "code",
   "execution_count": 48,
   "id": "a8211c48",
   "metadata": {},
   "outputs": [],
   "source": [
    "a=b=c=20"
   ]
  },
  {
   "cell_type": "code",
   "execution_count": 49,
   "id": "80dc2bca",
   "metadata": {},
   "outputs": [
    {
     "data": {
      "text/plain": [
       "20"
      ]
     },
     "execution_count": 49,
     "metadata": {},
     "output_type": "execute_result"
    }
   ],
   "source": [
    "a"
   ]
  },
  {
   "cell_type": "code",
   "execution_count": 50,
   "id": "4422eb67",
   "metadata": {},
   "outputs": [
    {
     "data": {
      "text/plain": [
       "20"
      ]
     },
     "execution_count": 50,
     "metadata": {},
     "output_type": "execute_result"
    }
   ],
   "source": [
    "b"
   ]
  },
  {
   "cell_type": "code",
   "execution_count": 51,
   "id": "97329a91",
   "metadata": {},
   "outputs": [
    {
     "data": {
      "text/plain": [
       "20"
      ]
     },
     "execution_count": 51,
     "metadata": {},
     "output_type": "execute_result"
    }
   ],
   "source": [
    "c"
   ]
  },
  {
   "cell_type": "markdown",
   "id": "db9dfa6c",
   "metadata": {},
   "source": [
    "# Python Comments"
   ]
  },
  {
   "cell_type": "code",
   "execution_count": 52,
   "id": "cb68b8ff",
   "metadata": {},
   "outputs": [],
   "source": [
    "#- for single line comment"
   ]
  },
  {
   "cell_type": "code",
   "execution_count": 55,
   "id": "d4b87162",
   "metadata": {},
   "outputs": [
    {
     "name": "stdout",
     "output_type": "stream",
     "text": [
      "abc\n"
     ]
    }
   ],
   "source": [
    "a,b=10,\"abc\"\n",
    "#print(a)\n",
    "print(b)"
   ]
  },
  {
   "cell_type": "raw",
   "id": "09676dad",
   "metadata": {},
   "source": [
    "\"\"\"\"\"\"/'''''' for multiline comment"
   ]
  },
  {
   "cell_type": "code",
   "execution_count": 56,
   "id": "fcef834d",
   "metadata": {},
   "outputs": [
    {
     "name": "stdout",
     "output_type": "stream",
     "text": [
      "Hello\n"
     ]
    }
   ],
   "source": [
    "a,b=10,\"abc\"\n",
    "'''print(a)\n",
    "print(b)'''\n",
    "\n",
    "print(\"Hello\")"
   ]
  },
  {
   "cell_type": "markdown",
   "id": "4e458822",
   "metadata": {},
   "source": [
    "# Single or Double Quotes\n",
    "String variables can be declared either by using single or double quotes:"
   ]
  },
  {
   "cell_type": "code",
   "execution_count": 57,
   "id": "6fa10bdb",
   "metadata": {},
   "outputs": [],
   "source": [
    "name=\"pooja\""
   ]
  },
  {
   "cell_type": "code",
   "execution_count": 58,
   "id": "fffb7a5f",
   "metadata": {},
   "outputs": [
    {
     "name": "stdout",
     "output_type": "stream",
     "text": [
      "pooja\n"
     ]
    }
   ],
   "source": [
    "print(name)"
   ]
  },
  {
   "cell_type": "code",
   "execution_count": 59,
   "id": "1722fae7",
   "metadata": {},
   "outputs": [],
   "source": [
    "_name='Tanisha'"
   ]
  },
  {
   "cell_type": "code",
   "execution_count": 60,
   "id": "cacaa920",
   "metadata": {},
   "outputs": [
    {
     "name": "stdout",
     "output_type": "stream",
     "text": [
      "Tanisha\n"
     ]
    }
   ],
   "source": [
    "print(_name)"
   ]
  },
  {
   "cell_type": "markdown",
   "id": "ef1f015d",
   "metadata": {},
   "source": [
    "# Python Numbers\n",
    "There are three numeric types in Python:\n",
    "\n",
    "- int \n",
    "- float \n",
    "- complex"
   ]
  },
  {
   "cell_type": "code",
   "execution_count": 64,
   "id": "967fa9e0",
   "metadata": {},
   "outputs": [],
   "source": [
    "n=1000"
   ]
  },
  {
   "cell_type": "code",
   "execution_count": 65,
   "id": "3fc4e0e6",
   "metadata": {},
   "outputs": [
    {
     "data": {
      "text/plain": [
       "int"
      ]
     },
     "execution_count": 65,
     "metadata": {},
     "output_type": "execute_result"
    }
   ],
   "source": [
    "type(n)"
   ]
  },
  {
   "cell_type": "code",
   "execution_count": null,
   "id": "3d22e723",
   "metadata": {},
   "outputs": [],
   "source": []
  },
  {
   "cell_type": "code",
   "execution_count": 66,
   "id": "c117e311",
   "metadata": {},
   "outputs": [],
   "source": [
    "x=36.78"
   ]
  },
  {
   "cell_type": "code",
   "execution_count": 67,
   "id": "b387f1c2",
   "metadata": {},
   "outputs": [
    {
     "data": {
      "text/plain": [
       "float"
      ]
     },
     "execution_count": 67,
     "metadata": {},
     "output_type": "execute_result"
    }
   ],
   "source": [
    "type(x)"
   ]
  },
  {
   "cell_type": "code",
   "execution_count": 68,
   "id": "3b2b3859",
   "metadata": {},
   "outputs": [],
   "source": [
    "z=3+2j"
   ]
  },
  {
   "cell_type": "code",
   "execution_count": 69,
   "id": "c9d669fe",
   "metadata": {},
   "outputs": [
    {
     "data": {
      "text/plain": [
       "complex"
      ]
     },
     "execution_count": 69,
     "metadata": {},
     "output_type": "execute_result"
    }
   ],
   "source": [
    "type(z)"
   ]
  },
  {
   "cell_type": "code",
   "execution_count": 70,
   "id": "dc75f338",
   "metadata": {},
   "outputs": [
    {
     "data": {
      "text/plain": [
       "3.0"
      ]
     },
     "execution_count": 70,
     "metadata": {},
     "output_type": "execute_result"
    }
   ],
   "source": [
    "z.real"
   ]
  },
  {
   "cell_type": "code",
   "execution_count": 71,
   "id": "cc6cb1a4",
   "metadata": {},
   "outputs": [
    {
     "data": {
      "text/plain": [
       "2.0"
      ]
     },
     "execution_count": 71,
     "metadata": {},
     "output_type": "execute_result"
    }
   ],
   "source": [
    "z.imag"
   ]
  }
 ],
 "metadata": {
  "kernelspec": {
   "display_name": "Python 3 (ipykernel)",
   "language": "python",
   "name": "python3"
  },
  "language_info": {
   "codemirror_mode": {
    "name": "ipython",
    "version": 3
   },
   "file_extension": ".py",
   "mimetype": "text/x-python",
   "name": "python",
   "nbconvert_exporter": "python",
   "pygments_lexer": "ipython3",
   "version": "3.11.5"
  }
 },
 "nbformat": 4,
 "nbformat_minor": 5
}
