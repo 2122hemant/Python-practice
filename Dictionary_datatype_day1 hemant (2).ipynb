{
 "cells": [
  {
   "cell_type": "markdown",
   "id": "64eee5b2",
   "metadata": {},
   "source": [
    "# Dictionary\n",
    "- written with curly brackets, and stores data in key-value pair\n",
    "- ordered\n",
    "- indexable by using keys\n",
    "- access the values, with help of keys\n",
    "- do not allow duplicates keys\n",
    "- Mutable\n",
    "**As of Python version 3.7, dictionaries are ordered. In Python 3.6 and earlier, dictionaries are unordered."
   ]
  },
  {
   "cell_type": "markdown",
   "id": "7514d06a",
   "metadata": {},
   "source": [
    "# Creating empty dictionary"
   ]
  },
  {
   "cell_type": "code",
   "execution_count": 2,
   "id": "d2f15074",
   "metadata": {},
   "outputs": [],
   "source": [
    "dic = {}"
   ]
  },
  {
   "cell_type": "code",
   "execution_count": 3,
   "id": "e83a5779",
   "metadata": {},
   "outputs": [
    {
     "data": {
      "text/plain": [
       "dict"
      ]
     },
     "execution_count": 3,
     "metadata": {},
     "output_type": "execute_result"
    }
   ],
   "source": [
    "type(dic)"
   ]
  },
  {
   "cell_type": "code",
   "execution_count": 4,
   "id": "b3ce49de",
   "metadata": {},
   "outputs": [
    {
     "data": {
      "text/plain": [
       "{}"
      ]
     },
     "execution_count": 4,
     "metadata": {},
     "output_type": "execute_result"
    }
   ],
   "source": [
    "dic"
   ]
  },
  {
   "cell_type": "code",
   "execution_count": 5,
   "id": "25aabff3",
   "metadata": {},
   "outputs": [],
   "source": [
    "d = dict()"
   ]
  },
  {
   "cell_type": "code",
   "execution_count": 6,
   "id": "33d66412",
   "metadata": {},
   "outputs": [
    {
     "data": {
      "text/plain": [
       "dict"
      ]
     },
     "execution_count": 6,
     "metadata": {},
     "output_type": "execute_result"
    }
   ],
   "source": [
    "type(d)"
   ]
  },
  {
   "cell_type": "code",
   "execution_count": 7,
   "id": "980ee1e9",
   "metadata": {},
   "outputs": [
    {
     "data": {
      "text/plain": [
       "{}"
      ]
     },
     "execution_count": 7,
     "metadata": {},
     "output_type": "execute_result"
    }
   ],
   "source": [
    "d"
   ]
  },
  {
   "cell_type": "markdown",
   "id": "7a92ef2d",
   "metadata": {},
   "source": [
    "# Create and print a dictionary"
   ]
  },
  {
   "cell_type": "markdown",
   "id": "cd9665c5",
   "metadata": {},
   "source": [
    "# Method1:create a dictionary with {}"
   ]
  },
  {
   "cell_type": "code",
   "execution_count": 8,
   "id": "963bdfa0",
   "metadata": {},
   "outputs": [],
   "source": [
    "marks ={'maths':80,'Science':90,'English':99,'python':100}"
   ]
  },
  {
   "cell_type": "code",
   "execution_count": 9,
   "id": "9389beae",
   "metadata": {},
   "outputs": [
    {
     "data": {
      "text/plain": [
       "{'maths': 80, 'Science': 90, 'English': 99, 'python': 100}"
      ]
     },
     "execution_count": 9,
     "metadata": {},
     "output_type": "execute_result"
    }
   ],
   "source": [
    "marks"
   ]
  },
  {
   "cell_type": "code",
   "execution_count": 10,
   "id": "47a33529",
   "metadata": {},
   "outputs": [
    {
     "data": {
      "text/plain": [
       "99"
      ]
     },
     "execution_count": 10,
     "metadata": {},
     "output_type": "execute_result"
    }
   ],
   "source": [
    "marks['English']"
   ]
  },
  {
   "cell_type": "code",
   "execution_count": 11,
   "id": "b7a3e708",
   "metadata": {},
   "outputs": [],
   "source": [
    "menu={'dishes':['maggi','pasta','pizza'],'price':[100,120,150]}"
   ]
  },
  {
   "cell_type": "code",
   "execution_count": 12,
   "id": "c9ff5d82",
   "metadata": {},
   "outputs": [
    {
     "data": {
      "text/plain": [
       "{'dishes': ['maggi', 'pasta', 'pizza'], 'price': [100, 120, 150]}"
      ]
     },
     "execution_count": 12,
     "metadata": {},
     "output_type": "execute_result"
    }
   ],
   "source": [
    "menu"
   ]
  },
  {
   "cell_type": "code",
   "execution_count": 17,
   "id": "5a6d2d47",
   "metadata": {},
   "outputs": [
    {
     "data": {
      "text/plain": [
       "'PASTA'"
      ]
     },
     "execution_count": 17,
     "metadata": {},
     "output_type": "execute_result"
    }
   ],
   "source": [
    "menu['dishes'][1].upper()"
   ]
  },
  {
   "cell_type": "markdown",
   "id": "dc119490",
   "metadata": {},
   "source": [
    "# method2: create a dic with list of tuples using dict()"
   ]
  },
  {
   "cell_type": "code",
   "execution_count": 18,
   "id": "ed01158c",
   "metadata": {},
   "outputs": [],
   "source": [
    "student = dict([(1,'pooja'),(2,'tanisha'),(3,'manvi'),(4,'hemant'),(5,'poorvi')])"
   ]
  },
  {
   "cell_type": "code",
   "execution_count": 19,
   "id": "bcfdec59",
   "metadata": {},
   "outputs": [
    {
     "data": {
      "text/plain": [
       "{1: 'pooja', 2: 'tanisha', 3: 'manvi', 4: 'hemant', 5: 'poorvi'}"
      ]
     },
     "execution_count": 19,
     "metadata": {},
     "output_type": "execute_result"
    }
   ],
   "source": [
    "student"
   ]
  },
  {
   "cell_type": "code",
   "execution_count": 22,
   "id": "c8a994b8",
   "metadata": {},
   "outputs": [],
   "source": [
    "menu1 = dict([('dishes',['maggi','pasta','burger']),('price',[100,200,150])])"
   ]
  },
  {
   "cell_type": "code",
   "execution_count": 23,
   "id": "0a2f5797",
   "metadata": {},
   "outputs": [
    {
     "data": {
      "text/plain": [
       "{'dishes': ['maggi', 'pasta', 'burger'], 'price': [100, 200, 150]}"
      ]
     },
     "execution_count": 23,
     "metadata": {},
     "output_type": "execute_result"
    }
   ],
   "source": [
    "menu1"
   ]
  },
  {
   "cell_type": "markdown",
   "id": "efbff40f",
   "metadata": {},
   "source": [
    "# Method3:dict() constructor to make a dictionary , Key need not to be written in \"\" "
   ]
  },
  {
   "cell_type": "code",
   "execution_count": 24,
   "id": "37b2e5e6",
   "metadata": {},
   "outputs": [],
   "source": [
    "computer = dict(keyboard=100,monitor=200,mouse=300)"
   ]
  },
  {
   "cell_type": "code",
   "execution_count": 25,
   "id": "9e8d0530",
   "metadata": {},
   "outputs": [
    {
     "data": {
      "text/plain": [
       "{'keyboard': 100, 'monitor': 200, 'mouse': 300}"
      ]
     },
     "execution_count": 25,
     "metadata": {},
     "output_type": "execute_result"
    }
   ],
   "source": [
    "computer"
   ]
  },
  {
   "cell_type": "markdown",
   "id": "5504288c",
   "metadata": {},
   "source": [
    "# Method4: adding items in empty dictionary"
   ]
  },
  {
   "cell_type": "code",
   "execution_count": 27,
   "id": "3760d427",
   "metadata": {},
   "outputs": [],
   "source": [
    "emp ={}"
   ]
  },
  {
   "cell_type": "code",
   "execution_count": 28,
   "id": "9b8e2439",
   "metadata": {},
   "outputs": [
    {
     "data": {
      "text/plain": [
       "{}"
      ]
     },
     "execution_count": 28,
     "metadata": {},
     "output_type": "execute_result"
    }
   ],
   "source": [
    "emp"
   ]
  },
  {
   "cell_type": "code",
   "execution_count": 29,
   "id": "bb145a43",
   "metadata": {},
   "outputs": [],
   "source": [
    "emp['id']=101"
   ]
  },
  {
   "cell_type": "code",
   "execution_count": 30,
   "id": "4f6306c8",
   "metadata": {},
   "outputs": [
    {
     "data": {
      "text/plain": [
       "{'id': 101}"
      ]
     },
     "execution_count": 30,
     "metadata": {},
     "output_type": "execute_result"
    }
   ],
   "source": [
    "emp"
   ]
  },
  {
   "cell_type": "code",
   "execution_count": 31,
   "id": "d14241ec",
   "metadata": {},
   "outputs": [],
   "source": [
    "emp['name']='Hemant'\n",
    "emp['age']=21\n",
    "emp['job']='sudent'\n",
    "emp['hobby']=['workout','coding']"
   ]
  },
  {
   "cell_type": "code",
   "execution_count": 32,
   "id": "2e2b6b2c",
   "metadata": {},
   "outputs": [
    {
     "data": {
      "text/plain": [
       "{'id': 101,\n",
       " 'name': 'Hemant',\n",
       " 'age': 21,\n",
       " 'job': 'sudent',\n",
       " 'hobby': ['workout', 'coding']}"
      ]
     },
     "execution_count": 32,
     "metadata": {},
     "output_type": "execute_result"
    }
   ],
   "source": [
    "emp"
   ]
  },
  {
   "cell_type": "markdown",
   "id": "660ee27b",
   "metadata": {},
   "source": [
    "# Accessing elements\n",
    "You can access the items of a dictionary by referring to its key name, inside square brackets:"
   ]
  },
  {
   "cell_type": "code",
   "execution_count": 33,
   "id": "3e0cd662",
   "metadata": {},
   "outputs": [
    {
     "data": {
      "text/plain": [
       "{'dishes': ['maggi', 'pasta', 'pizza'], 'price': [100, 120, 150]}"
      ]
     },
     "execution_count": 33,
     "metadata": {},
     "output_type": "execute_result"
    }
   ],
   "source": [
    "menu"
   ]
  },
  {
   "cell_type": "code",
   "execution_count": 34,
   "id": "f99d4655",
   "metadata": {},
   "outputs": [
    {
     "data": {
      "text/plain": [
       "{'keyboard': 100, 'monitor': 200, 'mouse': 300}"
      ]
     },
     "execution_count": 34,
     "metadata": {},
     "output_type": "execute_result"
    }
   ],
   "source": [
    "computer"
   ]
  },
  {
   "cell_type": "code",
   "execution_count": 35,
   "id": "565dbcf3",
   "metadata": {},
   "outputs": [
    {
     "data": {
      "text/plain": [
       "{1: 'pooja', 2: 'tanisha', 3: 'manvi', 4: 'hemant', 5: 'poorvi'}"
      ]
     },
     "execution_count": 35,
     "metadata": {},
     "output_type": "execute_result"
    }
   ],
   "source": [
    "student"
   ]
  },
  {
   "cell_type": "code",
   "execution_count": 37,
   "id": "c706cdfc",
   "metadata": {},
   "outputs": [
    {
     "data": {
      "text/plain": [
       "True"
      ]
     },
     "execution_count": 37,
     "metadata": {},
     "output_type": "execute_result"
    }
   ],
   "source": [
    "1 in student"
   ]
  },
  {
   "cell_type": "code",
   "execution_count": 42,
   "id": "54e56f32",
   "metadata": {},
   "outputs": [
    {
     "name": "stdout",
     "output_type": "stream",
     "text": [
      "Enter the roll no: 2\n",
      "name of student: tanisha\n"
     ]
    }
   ],
   "source": [
    "roll_no= int(input(\"Enter the roll no: \"))\n",
    "\n",
    "if roll_no in student:\n",
    "    print(f\"name of student: {student[roll_no]}\")\n",
    "else:\n",
    "    print(f\"There is no details for student with roll no {roll_no}\")"
   ]
  },
  {
   "cell_type": "code",
   "execution_count": 45,
   "id": "2f8e118b",
   "metadata": {},
   "outputs": [
    {
     "data": {
      "text/plain": [
       "'coding'"
      ]
     },
     "execution_count": 45,
     "metadata": {},
     "output_type": "execute_result"
    }
   ],
   "source": [
    "emp['hobby'][-1]"
   ]
  },
  {
   "cell_type": "markdown",
   "id": "a194851f",
   "metadata": {},
   "source": [
    "# get() method for accessing the item"
   ]
  },
  {
   "cell_type": "code",
   "execution_count": 46,
   "id": "2419d47e",
   "metadata": {},
   "outputs": [
    {
     "data": {
      "text/plain": [
       "['workout', 'coding']"
      ]
     },
     "execution_count": 46,
     "metadata": {},
     "output_type": "execute_result"
    }
   ],
   "source": [
    "emp.get('hobby')"
   ]
  },
  {
   "cell_type": "code",
   "execution_count": 47,
   "id": "d7e06f17",
   "metadata": {},
   "outputs": [
    {
     "data": {
      "text/plain": [
       "['maggi', 'pasta', 'pizza']"
      ]
     },
     "execution_count": 47,
     "metadata": {},
     "output_type": "execute_result"
    }
   ],
   "source": [
    "menu.get('dishes')"
   ]
  },
  {
   "cell_type": "code",
   "execution_count": 48,
   "id": "3c9c3dc0",
   "metadata": {},
   "outputs": [
    {
     "data": {
      "text/plain": [
       "['maggi', 'pasta', 'pizza']"
      ]
     },
     "execution_count": 48,
     "metadata": {},
     "output_type": "execute_result"
    }
   ],
   "source": [
    "menu['dishes']"
   ]
  },
  {
   "cell_type": "code",
   "execution_count": null,
   "id": "08deded2",
   "metadata": {},
   "outputs": [],
   "source": []
  },
  {
   "cell_type": "markdown",
   "id": "a840e100",
   "metadata": {},
   "source": [
    "# Some methods of dictionary"
   ]
  },
  {
   "cell_type": "markdown",
   "id": "9daec6a9",
   "metadata": {},
   "source": [
    "# Get Keys\n",
    "The keys() method will return a list of all the keys in the dictionary."
   ]
  },
  {
   "cell_type": "code",
   "execution_count": 49,
   "id": "599bef3e",
   "metadata": {},
   "outputs": [
    {
     "data": {
      "text/plain": [
       "dict_keys(['id', 'name', 'age', 'job', 'hobby'])"
      ]
     },
     "execution_count": 49,
     "metadata": {},
     "output_type": "execute_result"
    }
   ],
   "source": [
    "emp.keys()"
   ]
  },
  {
   "cell_type": "code",
   "execution_count": 50,
   "id": "e77a7de1",
   "metadata": {},
   "outputs": [
    {
     "data": {
      "text/plain": [
       "dict_keys([1, 2, 3, 4, 5])"
      ]
     },
     "execution_count": 50,
     "metadata": {},
     "output_type": "execute_result"
    }
   ],
   "source": [
    "student.keys()"
   ]
  },
  {
   "cell_type": "code",
   "execution_count": null,
   "id": "2c86b7cd",
   "metadata": {},
   "outputs": [],
   "source": []
  }
 ],
 "metadata": {
  "kernelspec": {
   "display_name": "Python 3 (ipykernel)",
   "language": "python",
   "name": "python3"
  },
  "language_info": {
   "codemirror_mode": {
    "name": "ipython",
    "version": 3
   },
   "file_extension": ".py",
   "mimetype": "text/x-python",
   "name": "python",
   "nbconvert_exporter": "python",
   "pygments_lexer": "ipython3",
   "version": "3.11.5"
  }
 },
 "nbformat": 4,
 "nbformat_minor": 5
}
