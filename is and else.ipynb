{
 "cells": [
  {
   "cell_type": "code",
   "execution_count": 1,
   "id": "221cacb0",
   "metadata": {},
   "outputs": [
    {
     "name": "stdout",
     "output_type": "stream",
     "text": [
      "5\n"
     ]
    }
   ],
   "source": [
    "a = 5 \n",
    "print(a)"
   ]
  },
  {
   "cell_type": "code",
   "execution_count": 2,
   "id": "2d2ab93c",
   "metadata": {},
   "outputs": [
    {
     "name": "stdout",
     "output_type": "stream",
     "text": [
      "4\n"
     ]
    }
   ],
   "source": [
    "b = 4\n",
    "print(b)"
   ]
  },
  {
   "cell_type": "code",
   "execution_count": 3,
   "id": "fad4e098",
   "metadata": {},
   "outputs": [],
   "source": [
    "a = 5\n",
    "z = 4"
   ]
  },
  {
   "cell_type": "code",
   "execution_count": 4,
   "id": "e0c5f6ff",
   "metadata": {},
   "outputs": [
    {
     "ename": "NameError",
     "evalue": "name 'c' is not defined",
     "output_type": "error",
     "traceback": [
      "\u001b[1;31m---------------------------------------------------------------------------\u001b[0m",
      "\u001b[1;31mNameError\u001b[0m                                 Traceback (most recent call last)",
      "Cell \u001b[1;32mIn[4], line 1\u001b[0m\n\u001b[1;32m----> 1\u001b[0m \u001b[38;5;28;01mif\u001b[39;00m a \u001b[38;5;241m>\u001b[39m c:\n\u001b[0;32m      2\u001b[0m     \u001b[38;5;28mprint\u001b[39m(\u001b[38;5;124m\"\u001b[39m\u001b[38;5;124mhey\u001b[39m\u001b[38;5;124m\"\u001b[39m)\n",
      "\u001b[1;31mNameError\u001b[0m: name 'c' is not defined"
     ]
    }
   ],
   "source": [
    "if a > c:\n",
    "    print(\"hey\")"
   ]
  },
  {
   "cell_type": "code",
   "execution_count": null,
   "id": "52b1ad4d",
   "metadata": {},
   "outputs": [],
   "source": [
    "b = 5\n",
    "c = 6"
   ]
  },
  {
   "cell_type": "code",
   "execution_count": null,
   "id": "5b72357b",
   "metadata": {},
   "outputs": [],
   "source": [
    "if b < c:\n",
    "    print(\"b is of course less then c\")"
   ]
  },
  {
   "cell_type": "code",
   "execution_count": null,
   "id": "f34014c8",
   "metadata": {},
   "outputs": [],
   "source": [
    "a = 4\n",
    "b = 3 \n",
    "\n",
    "if a < b:\n",
    "    print(\"but 4 is less then 3\")\n",
    "else:\n",
    "    print(\"hey a is bigger then b\")\n",
    "    "
   ]
  },
  {
   "cell_type": "code",
   "execution_count": null,
   "id": "b878b2b6",
   "metadata": {
    "scrolled": true
   },
   "outputs": [],
   "source": [
    "s = 33\n",
    "b = 33\n",
    "\n",
    "if  s < b:\n",
    "    print(\"yes s is less then b\")\n",
    "elif s ==b:\n",
    "    print(\"s is equal to b\")\n",
    "else:\n",
    "    print('s is bigger then b ')"
   ]
  },
  {
   "cell_type": "markdown",
   "id": "2c7e444d",
   "metadata": {},
   "source": [
    "# loop"
   ]
  },
  {
   "cell_type": "code",
   "execution_count": null,
   "id": "0e7f91e1",
   "metadata": {},
   "outputs": [],
   "source": [
    "while loop\n",
    "\n",
    "expression is false "
   ]
  },
  {
   "cell_type": "code",
   "execution_count": null,
   "id": "e9204716",
   "metadata": {},
   "outputs": [],
   "source": [
    "n= int(input(\" enter the number: \"))\n",
    "i=n\n",
    "while i>=1:\n",
    "    print(i)\n",
    "    i-=1"
   ]
  },
  {
   "cell_type": "markdown",
   "id": "99b8028b",
   "metadata": {},
   "source": [
    "# Break"
   ]
  },
  {
   "cell_type": "code",
   "execution_count": null,
   "id": "fbf54216",
   "metadata": {},
   "outputs": [],
   "source": [
    "for i in range(12):\n",
    "    print(\"5 x\", i+1,\"=\",5 * (i+1))\n",
    "    if(i ==10):\n",
    "        break\n",
    "        "
   ]
  },
  {
   "cell_type": "code",
   "execution_count": null,
   "id": "0aa84315",
   "metadata": {},
   "outputs": [],
   "source": [
    "for i in range(1,11):\n",
    "    if i == 5:\n",
    "        break\n",
    "    print(i)\n",
    "        \n",
    "       \n",
    "                    \n",
    "        "
   ]
  },
  {
   "cell_type": "code",
   "execution_count": null,
   "id": "6ecdbb65",
   "metadata": {},
   "outputs": [],
   "source": [
    "for i in range (1,10):\n",
    "    if i == 6:\n",
    "        break\n",
    "    print(i)    \n",
    "    "
   ]
  },
  {
   "cell_type": "code",
   "execution_count": null,
   "id": "4ae57d60",
   "metadata": {},
   "outputs": [],
   "source": [
    "for i in range (10,100):\n",
    "    if i == 85:\n",
    "        break\n",
    "    print(i)"
   ]
  },
  {
   "cell_type": "code",
   "execution_count": null,
   "id": "ca6986ee",
   "metadata": {},
   "outputs": [],
   "source": [
    "for i in range (1,25):\n",
    "    if i == 19:\n",
    "        break\n",
    "    print(i)    \n",
    "    "
   ]
  },
  {
   "cell_type": "markdown",
   "id": "23ff8de1",
   "metadata": {},
   "source": [
    "# continue"
   ]
  },
  {
   "cell_type": "code",
   "execution_count": null,
   "id": "f7aefecb",
   "metadata": {},
   "outputs": [],
   "source": [
    "for i in range (1,10):\n",
    "    if i == 6:\n",
    "        continue \n",
    "    print(i)\n",
    "    print(\"hello hemant this side\")\n",
    "    "
   ]
  },
  {
   "cell_type": "code",
   "execution_count": null,
   "id": "d87e9fe5",
   "metadata": {},
   "outputs": [],
   "source": [
    "for i in range (1,20):\n",
    "    if i == 5:\n",
    "        continue\n",
    "    print(i)\n",
    "    print(\"hello TGC\")\n",
    "    "
   ]
  },
  {
   "cell_type": "code",
   "execution_count": null,
   "id": "a0d0377d",
   "metadata": {},
   "outputs": [],
   "source": [
    "for i in range(1,11):\n",
    "    print(i)"
   ]
  },
  {
   "cell_type": "code",
   "execution_count": null,
   "id": "5b7e7ba9",
   "metadata": {},
   "outputs": [],
   "source": [
    "list(range(10,0,-1))"
   ]
  },
  {
   "cell_type": "code",
   "execution_count": null,
   "id": "1291680f",
   "metadata": {},
   "outputs": [],
   "source": [
    "list(range(15))"
   ]
  },
  {
   "cell_type": "code",
   "execution_count": null,
   "id": "5817a1f7",
   "metadata": {},
   "outputs": [],
   "source": [
    "list(range(21))"
   ]
  },
  {
   "cell_type": "code",
   "execution_count": null,
   "id": "d80289b5",
   "metadata": {},
   "outputs": [],
   "source": [
    "for i in range(10,0,-1):\n",
    "    print(i)"
   ]
  },
  {
   "cell_type": "code",
   "execution_count": null,
   "id": "6dbfcef2",
   "metadata": {},
   "outputs": [],
   "source": [
    "for i in \" delhi \":\n",
    "    print(i)"
   ]
  },
  {
   "cell_type": "code",
   "execution_count": null,
   "id": "32e6c200",
   "metadata": {},
   "outputs": [],
   "source": [
    "number =int(input(\"enter the number \"))\n",
    "\n",
    "i = 1\n",
    "\n",
    "while i<11:\n",
    "    print(number * 1)\n",
    "    i+=1"
   ]
  },
  {
   "cell_type": "markdown",
   "id": "e487c13b",
   "metadata": {},
   "source": [
    "# pass "
   ]
  },
  {
   "cell_type": "code",
   "execution_count": 1,
   "id": "f3c162bf",
   "metadata": {},
   "outputs": [
    {
     "name": "stdout",
     "output_type": "stream",
     "text": [
      "hello\n"
     ]
    }
   ],
   "source": [
    "i=0\n",
    "while i<10:\n",
    "    i+=1\n",
    "    pass\n",
    "      \n",
    "print(\"hello\")"
   ]
  },
  {
   "cell_type": "code",
   "execution_count": 2,
   "id": "d88f6825",
   "metadata": {},
   "outputs": [
    {
     "name": "stdout",
     "output_type": "stream",
     "text": [
      "hemant\n"
     ]
    }
   ],
   "source": [
    "for i in range (10):\n",
    "    pass\n",
    "print(\"hemant\")"
   ]
  },
  {
   "cell_type": "markdown",
   "id": "cf7e9d95",
   "metadata": {},
   "source": [
    "# The else statement\n"
   ]
  },
  {
   "cell_type": "code",
   "execution_count": 3,
   "id": "27a25e1a",
   "metadata": {},
   "outputs": [
    {
     "name": "stdout",
     "output_type": "stream",
     "text": [
      "1\n",
      "2\n",
      "3\n",
      "4\n",
      "5\n",
      "36\n"
     ]
    }
   ],
   "source": [
    "i=1\n",
    "while i<6:\n",
    "    print(i)\n",
    "    i+=1\n",
    "else:\n",
    "    print(i**2)"
   ]
  },
  {
   "cell_type": "code",
   "execution_count": 4,
   "id": "3115d27b",
   "metadata": {},
   "outputs": [
    {
     "name": "stdout",
     "output_type": "stream",
     "text": [
      "enter the number10\n",
      "10 is a composite number\n"
     ]
    }
   ],
   "source": [
    "n=int(input(\"enter the number\"))\n",
    "i=2\n",
    "flag=True\n",
    "\n",
    "while i<n:\n",
    "    if n%i==0:\n",
    "        flag =False\n",
    "        break\n",
    "    i+=1\n",
    "    \n",
    "if flag:\n",
    "    print(F\"{n} is a prime  number\")\n",
    "else:\n",
    "    print(F\"{n} is a composite number\")\n"
   ]
  },
  {
   "cell_type": "code",
   "execution_count": 5,
   "id": "d920f721",
   "metadata": {},
   "outputs": [
    {
     "name": "stdout",
     "output_type": "stream",
     "text": [
      "*\n",
      "**\n",
      "***\n",
      "****\n",
      "*****\n"
     ]
    }
   ],
   "source": [
    "i=1\n",
    "\n",
    "while i<=5:\n",
    "    print(\"*\"*i)\n",
    "    i+=1"
   ]
  },
  {
   "cell_type": "code",
   "execution_count": 6,
   "id": "886753b8",
   "metadata": {},
   "outputs": [
    {
     "name": "stdout",
     "output_type": "stream",
     "text": [
      "*\n",
      "**\n",
      "***\n",
      "****\n",
      "*****\n",
      "******\n",
      "*******\n",
      "********\n",
      "*********\n",
      "**********\n"
     ]
    }
   ],
   "source": [
    "i=1\n",
    "\n",
    "while i<=10:\n",
    "    print(\"*\"*i)\n",
    "    i+=1"
   ]
  },
  {
   "cell_type": "code",
   "execution_count": 7,
   "id": "13c5b947",
   "metadata": {},
   "outputs": [
    {
     "name": "stdout",
     "output_type": "stream",
     "text": [
      "     *\n",
      "   ***\n",
      " *****\n"
     ]
    }
   ],
   "source": [
    "j=2\n",
    "i=1\n",
    "\n",
    "while i<=5:\n",
    "    print(\"  \"*j,\"*\"*i)\n",
    "    i+=2\n",
    "    j-=1\n"
   ]
  },
  {
   "cell_type": "code",
   "execution_count": 8,
   "id": "d2c91bc9",
   "metadata": {},
   "outputs": [
    {
     "name": "stdout",
     "output_type": "stream",
     "text": [
      "1\n",
      "12\n",
      "123\n",
      "1234\n",
      "12345\n"
     ]
    }
   ],
   "source": [
    "i=1\n",
    "\n",
    "while i<=5:\n",
    "    j=1\n",
    "    while j<=i:\n",
    "        print(j,end=\"\")\n",
    "        j+=1\n",
    "    print(\"\")\n",
    "    i+=1"
   ]
  },
  {
   "cell_type": "code",
   "execution_count": 9,
   "id": "10c7ea7e",
   "metadata": {},
   "outputs": [
    {
     "name": "stdout",
     "output_type": "stream",
     "text": [
      "1\n",
      "12\n",
      "123\n",
      "1234\n",
      "12345\n"
     ]
    }
   ],
   "source": [
    "i=1\n",
    "while i<6:\n",
    "    j=1\n",
    "    while j<=i:\n",
    "        print(j,end=\"\")\n",
    "        j+=1\n",
    "    print(\"\")\n",
    "    i+=1"
   ]
  },
  {
   "cell_type": "code",
   "execution_count": 10,
   "id": "520042ac",
   "metadata": {},
   "outputs": [],
   "source": [
    "i=65\n",
    "while i<6:\n",
    "    j=1\n",
    "    while j<=i:\n",
    "        print(j,end=\"\")\n",
    "        j+=1\n",
    "    print(\"\")\n",
    "    i+=1"
   ]
  },
  {
   "cell_type": "code",
   "execution_count": 11,
   "id": "9827e673",
   "metadata": {},
   "outputs": [
    {
     "data": {
      "text/plain": [
       "65"
      ]
     },
     "execution_count": 11,
     "metadata": {},
     "output_type": "execute_result"
    }
   ],
   "source": [
    "ord('A')"
   ]
  },
  {
   "cell_type": "code",
   "execution_count": 12,
   "id": "09ef9748",
   "metadata": {},
   "outputs": [
    {
     "data": {
      "text/plain": [
       "'B'"
      ]
     },
     "execution_count": 12,
     "metadata": {},
     "output_type": "execute_result"
    }
   ],
   "source": [
    "chr(ord('A')+1)"
   ]
  },
  {
   "cell_type": "code",
   "execution_count": 13,
   "id": "8ecc9f3f",
   "metadata": {},
   "outputs": [
    {
     "data": {
      "text/plain": [
       "'C'"
      ]
     },
     "execution_count": 13,
     "metadata": {},
     "output_type": "execute_result"
    }
   ],
   "source": [
    "chr(67)"
   ]
  },
  {
   "cell_type": "code",
   "execution_count": 14,
   "id": "b2d14af1",
   "metadata": {},
   "outputs": [
    {
     "data": {
      "text/plain": [
       "67"
      ]
     },
     "execution_count": 14,
     "metadata": {},
     "output_type": "execute_result"
    }
   ],
   "source": [
    "ord('C')"
   ]
  },
  {
   "cell_type": "code",
   "execution_count": 15,
   "id": "0bd391dd",
   "metadata": {},
   "outputs": [
    {
     "name": "stdout",
     "output_type": "stream",
     "text": [
      "1 A\n",
      "2 B\n",
      "3 C\n"
     ]
    }
   ],
   "source": [
    "i=1\n",
    "k=65\n",
    "while i<=3:\n",
    "    print(i,chr(k))\n",
    "    k+=1\n",
    "    i+=1\n",
    "    "
   ]
  },
  {
   "cell_type": "markdown",
   "id": "47382ac0",
   "metadata": {},
   "source": [
    "# For loops "
   ]
  },
  {
   "cell_type": "code",
   "execution_count": 16,
   "id": "98d97826",
   "metadata": {},
   "outputs": [],
   "source": [
    "# THE Range Function \n"
   ]
  },
  {
   "cell_type": "code",
   "execution_count": 17,
   "id": "c364612e",
   "metadata": {},
   "outputs": [
    {
     "data": {
      "text/plain": [
       "range(0, 5)"
      ]
     },
     "execution_count": 17,
     "metadata": {},
     "output_type": "execute_result"
    }
   ],
   "source": [
    "range(5)"
   ]
  },
  {
   "cell_type": "code",
   "execution_count": 18,
   "id": "ea923547",
   "metadata": {},
   "outputs": [
    {
     "data": {
      "text/plain": [
       "[0, 1, 2, 3, 4]"
      ]
     },
     "execution_count": 18,
     "metadata": {},
     "output_type": "execute_result"
    }
   ],
   "source": [
    "list(range(5))"
   ]
  },
  {
   "cell_type": "code",
   "execution_count": 19,
   "id": "a9963038",
   "metadata": {},
   "outputs": [
    {
     "data": {
      "text/plain": [
       "[1, 2, 3, 4]"
      ]
     },
     "execution_count": 19,
     "metadata": {},
     "output_type": "execute_result"
    }
   ],
   "source": [
    "list(range(1,5))"
   ]
  },
  {
   "cell_type": "code",
   "execution_count": 20,
   "id": "e97e0207",
   "metadata": {},
   "outputs": [
    {
     "data": {
      "text/plain": [
       "[1, 3]"
      ]
     },
     "execution_count": 20,
     "metadata": {},
     "output_type": "execute_result"
    }
   ],
   "source": [
    "list(range(1,5,2))"
   ]
  },
  {
   "cell_type": "code",
   "execution_count": 21,
   "id": "8e233471",
   "metadata": {},
   "outputs": [
    {
     "data": {
      "text/plain": [
       "[5, 4, 3, 2, 1]"
      ]
     },
     "execution_count": 21,
     "metadata": {},
     "output_type": "execute_result"
    }
   ],
   "source": [
    "list(range(5,0,-1))"
   ]
  },
  {
   "cell_type": "code",
   "execution_count": 22,
   "id": "3a7d6940",
   "metadata": {},
   "outputs": [
    {
     "name": "stdout",
     "output_type": "stream",
     "text": [
      "enter the number:\n"
     ]
    },
    {
     "ename": "ValueError",
     "evalue": "invalid literal for int() with base 10: ''",
     "output_type": "error",
     "traceback": [
      "\u001b[1;31m---------------------------------------------------------------------------\u001b[0m",
      "\u001b[1;31mValueError\u001b[0m                                Traceback (most recent call last)",
      "Cell \u001b[1;32mIn[22], line 1\u001b[0m\n\u001b[1;32m----> 1\u001b[0m n\u001b[38;5;241m=\u001b[39m\u001b[38;5;28mint\u001b[39m(\u001b[38;5;28minput\u001b[39m(\u001b[38;5;124m\"\u001b[39m\u001b[38;5;124menter the number:\u001b[39m\u001b[38;5;124m\"\u001b[39m))\n\u001b[0;32m      3\u001b[0m \u001b[38;5;28;01mfor\u001b[39;00m i \u001b[38;5;129;01min\u001b[39;00m \u001b[38;5;28mrange\u001b[39m(\u001b[38;5;241m1\u001b[39m,n\u001b[38;5;241m+\u001b[39m\u001b[38;5;241m1\u001b[39m):\n\u001b[0;32m      4\u001b[0m     \u001b[38;5;28mprint\u001b[39m(i)\n",
      "\u001b[1;31mValueError\u001b[0m: invalid literal for int() with base 10: ''"
     ]
    }
   ],
   "source": [
    "n=int(input(\"enter the number:\"))\n",
    "\n",
    "for i in range(1,n+1):\n",
    "    print(i)"
   ]
  },
  {
   "cell_type": "code",
   "execution_count": null,
   "id": "a022b5e8",
   "metadata": {},
   "outputs": [],
   "source": [
    "n=int(input(\"enter the number:\"))\n",
    "\n",
    "for i in range(n,0,-1):\n",
    "       print(i)\n"
   ]
  },
  {
   "cell_type": "code",
   "execution_count": 23,
   "id": "e433b12a",
   "metadata": {},
   "outputs": [],
   "source": [
    "# factorial number "
   ]
  },
  {
   "cell_type": "code",
   "execution_count": 24,
   "id": "f06dab35",
   "metadata": {},
   "outputs": [
    {
     "name": "stdout",
     "output_type": "stream",
     "text": [
      "enter the number:20\n",
      "20!=2432902008176640000\n"
     ]
    }
   ],
   "source": [
    "n=int(input(\"enter the number:\"))\n",
    "fact=1\n",
    "\n",
    "for i in range(n,0,-1):\n",
    "    fact*=i\n",
    "    \n",
    "    \n",
    "print(f\"{n}!={fact}\")\n",
    "    "
   ]
  },
  {
   "cell_type": "code",
   "execution_count": 25,
   "id": "47461405",
   "metadata": {},
   "outputs": [
    {
     "name": "stdout",
     "output_type": "stream",
     "text": [
      "enter the number:10\n",
      "10!=3628800\n"
     ]
    }
   ],
   "source": [
    "n=int(input(\"enter the number:\"))\n",
    "fact=1\n",
    "\n",
    "for i in range(n,0,-1):\n",
    "    fact*=i\n",
    "    \n",
    "print(f\"{n}!={fact}\")"
   ]
  },
  {
   "cell_type": "code",
   "execution_count": 26,
   "id": "6a470f85",
   "metadata": {},
   "outputs": [],
   "source": [
    "# for loop throungh string \n"
   ]
  },
  {
   "cell_type": "code",
   "execution_count": 27,
   "id": "13a9a9df",
   "metadata": {},
   "outputs": [
    {
     "name": "stdout",
     "output_type": "stream",
     "text": [
      "enter the number of the person: 15\n",
      "1\n",
      "5\n"
     ]
    }
   ],
   "source": [
    "s=input(\"enter the number of the person: \")\n",
    "\n",
    "for i in s:\n",
    "    print(i)"
   ]
  },
  {
   "cell_type": "code",
   "execution_count": 28,
   "id": "7137e00a",
   "metadata": {},
   "outputs": [
    {
     "name": "stdout",
     "output_type": "stream",
     "text": [
      "enter the number of the person: 25\n",
      "2\n",
      "5\n"
     ]
    }
   ],
   "source": [
    "s=input(\"enter the number of the person: \")\n",
    "\n",
    "for i in s:\n",
    "    print(i)"
   ]
  },
  {
   "cell_type": "code",
   "execution_count": 29,
   "id": "f698788e",
   "metadata": {},
   "outputs": [
    {
     "name": "stdout",
     "output_type": "stream",
     "text": [
      "enter the number of the person: \n"
     ]
    }
   ],
   "source": [
    "s=input(\"enter the number of the person: \")\n",
    "\n",
    "for i in range(len(s)):\n",
    "    if i%2!=0:\n",
    "        print(s[i])"
   ]
  },
  {
   "cell_type": "code",
   "execution_count": 30,
   "id": "94479c21",
   "metadata": {},
   "outputs": [
    {
     "name": "stdout",
     "output_type": "stream",
     "text": [
      "enter the number of the person: \n"
     ]
    }
   ],
   "source": [
    "s=input(\"enter the number of the person: \")\n",
    "\n",
    "for i in range(1,len(s),2):\n",
    "    if i%2!=0:\n",
    "        print(s[i])"
   ]
  },
  {
   "cell_type": "code",
   "execution_count": 82,
   "id": "2d896740",
   "metadata": {},
   "outputs": [
    {
     "name": "stdout",
     "output_type": "stream",
     "text": [
      "enter the number of the person: HEMANT\n",
      "T\n",
      "E\n",
      "A\n",
      "T\n"
     ]
    }
   ],
   "source": [
    "s=input(\"enter the number of the person: \")\n",
    "\n",
    "for i in range(-1,len(s)):\n",
    "    if i%2!=0:\n",
    "        print(s[i])"
   ]
  },
  {
   "cell_type": "code",
   "execution_count": 40,
   "id": "b0edb55e",
   "metadata": {},
   "outputs": [
    {
     "name": "stdout",
     "output_type": "stream",
     "text": [
      "enter the number of the person: HEMANT\n",
      "T\n",
      "N\n",
      "A\n",
      "M\n",
      "E\n",
      "H\n"
     ]
    }
   ],
   "source": [
    "s=input(\"enter the number of the person: \")\n",
    "\n",
    "for i in s[::-1]:\n",
    "    print(i.upper())"
   ]
  },
  {
   "cell_type": "code",
   "execution_count": 41,
   "id": "bade6288",
   "metadata": {},
   "outputs": [
    {
     "name": "stdout",
     "output_type": "stream",
     "text": [
      "enter the number of the person: naman\n",
      "n\n",
      "a\n",
      "m\n",
      "a\n",
      "n\n"
     ]
    }
   ],
   "source": [
    "s=input(\"enter the number of the person: \")\n",
    "\n",
    "for i in s[::-1]:\n",
    "    print(i.lower())"
   ]
  },
  {
   "cell_type": "code",
   "execution_count": 42,
   "id": "def1a1fd",
   "metadata": {},
   "outputs": [
    {
     "name": "stdout",
     "output_type": "stream",
     "text": [
      "enter the number1,20,10,15,30\n",
      "1\n",
      "20\n",
      "10\n",
      "15\n",
      "30\n"
     ]
    }
   ],
   "source": [
    "list=list(map(int,input(\"enter the number\").split(\",\")))\n",
    "\n",
    "for i in list:\n",
    "    print(i)"
   ]
  },
  {
   "cell_type": "code",
   "execution_count": 83,
   "id": "f7b3137e",
   "metadata": {},
   "outputs": [
    {
     "name": "stdout",
     "output_type": "stream",
     "text": [
      "enter the number10,20,30\n"
     ]
    },
    {
     "ename": "TypeError",
     "evalue": "'list' object is not callable",
     "output_type": "error",
     "traceback": [
      "\u001b[1;31m---------------------------------------------------------------------------\u001b[0m",
      "\u001b[1;31mTypeError\u001b[0m                                 Traceback (most recent call last)",
      "Cell \u001b[1;32mIn[83], line 1\u001b[0m\n\u001b[1;32m----> 1\u001b[0m lst\u001b[38;5;241m=\u001b[39m\u001b[38;5;28mlist\u001b[39m(\u001b[38;5;28mmap\u001b[39m(\u001b[38;5;28mint\u001b[39m,\u001b[38;5;28minput\u001b[39m(\u001b[38;5;124m\"\u001b[39m\u001b[38;5;124menter the number\u001b[39m\u001b[38;5;124m\"\u001b[39m)\u001b[38;5;241m.\u001b[39msplit(\u001b[38;5;124m\"\u001b[39m\u001b[38;5;124m,\u001b[39m\u001b[38;5;124m\"\u001b[39m)))\n\u001b[0;32m      2\u001b[0m _sum\u001b[38;5;241m=\u001b[39m\u001b[38;5;241m0\u001b[39m\n\u001b[0;32m      3\u001b[0m \u001b[38;5;28;01mfor\u001b[39;00m i \u001b[38;5;129;01min\u001b[39;00m lst:\n",
      "\u001b[1;31mTypeError\u001b[0m: 'list' object is not callable"
     ]
    }
   ],
   "source": [
    "lst=list(map(int,input(\"enter the number\").split(\",\")))\n",
    "_sum=0\n",
    "for i in lst:\n",
    "    _sum+=i\n",
    "    \n",
    "    \n",
    "print(f\"sum if items: {_sum}\")"
   ]
  },
  {
   "cell_type": "code",
   "execution_count": 36,
   "id": "14b7b1b5",
   "metadata": {},
   "outputs": [],
   "source": [
    "#data types function modelus "
   ]
  },
  {
   "cell_type": "code",
   "execution_count": 45,
   "id": "6b6387b4",
   "metadata": {},
   "outputs": [
    {
     "name": "stdout",
     "output_type": "stream",
     "text": [
      "enter the number10,20,55,45,14,25,30,56,98,78,88\n"
     ]
    },
    {
     "ename": "TypeError",
     "evalue": "'list' object is not callable",
     "output_type": "error",
     "traceback": [
      "\u001b[1;31m---------------------------------------------------------------------------\u001b[0m",
      "\u001b[1;31mTypeError\u001b[0m                                 Traceback (most recent call last)",
      "Cell \u001b[1;32mIn[45], line 1\u001b[0m\n\u001b[1;32m----> 1\u001b[0m lst\u001b[38;5;241m=\u001b[39m\u001b[38;5;28mlist\u001b[39m(\u001b[38;5;28mmap\u001b[39m(\u001b[38;5;28mint\u001b[39m,\u001b[38;5;28minput\u001b[39m(\u001b[38;5;124m\"\u001b[39m\u001b[38;5;124menter the number\u001b[39m\u001b[38;5;124m\"\u001b[39m)\u001b[38;5;241m.\u001b[39msplit(\u001b[38;5;124m\"\u001b[39m\u001b[38;5;124m,\u001b[39m\u001b[38;5;124m\"\u001b[39m)))\n\u001b[0;32m      2\u001b[0m even\u001b[38;5;241m=\u001b[39m[]\n\u001b[0;32m      3\u001b[0m odd\u001b[38;5;241m=\u001b[39m[]\n",
      "\u001b[1;31mTypeError\u001b[0m: 'list' object is not callable"
     ]
    }
   ],
   "source": [
    "lst=list(map(int,input(\"enter the number\").split(\",\")))\n",
    "even=[]\n",
    "odd=[]\n",
    "\n",
    "for i in lst:\n",
    "    if i%2==0:\n",
    "        even.append(i)\n",
    "    else:\n",
    "        odd.append(i)\n",
    "        \n",
    "print(f\"even list:{even}\\nodd list:{odd}\")"
   ]
  },
  {
   "cell_type": "code",
   "execution_count": null,
   "id": "0bd81b14",
   "metadata": {},
   "outputs": [],
   "source": [
    "# the break statement\n"
   ]
  },
  {
   "cell_type": "code",
   "execution_count": 5,
   "id": "3dbd6e86",
   "metadata": {},
   "outputs": [
    {
     "name": "stdout",
     "output_type": "stream",
     "text": [
      "2\n",
      "3\n",
      "4\n",
      "5\n",
      "15\n",
      "25\n",
      "75\n"
     ]
    }
   ],
   "source": [
    "l=[2,3,4,5,15,25,75,10,20,30]\n",
    "\n",
    "\n",
    "for i in l:\n",
    "    if i%2==0 and i%5==0:\n",
    "        break\n",
    "    print(i)"
   ]
  },
  {
   "cell_type": "code",
   "execution_count": 10,
   "id": "ead879ac",
   "metadata": {},
   "outputs": [
    {
     "name": "stdout",
     "output_type": "stream",
     "text": [
      "2\n",
      "3\n",
      "4\n",
      "5\n",
      "15\n",
      "25\n",
      "75\n",
      "35\n",
      "52\n"
     ]
    }
   ],
   "source": [
    "l=[2,3,4,5,15,25,75,10,20,35,52]\n",
    "\n",
    "for i in l:\n",
    "    if i%2==0 and i%5==0:\n",
    "        continue\n",
    "    print(i)"
   ]
  },
  {
   "cell_type": "code",
   "execution_count": 38,
   "id": "e7d0cec1",
   "metadata": {},
   "outputs": [
    {
     "name": "stdout",
     "output_type": "stream",
     "text": [
      "1\n",
      "hello hemant this side\n",
      "2\n",
      "hello hemant this side\n",
      "3\n",
      "hello hemant this side\n",
      "4\n",
      "hello hemant this side\n",
      "5\n",
      "hello hemant this side\n",
      "7\n",
      "hello hemant this side\n",
      "8\n",
      "hello hemant this side\n",
      "9\n",
      "hello hemant this side\n"
     ]
    }
   ],
   "source": [
    "for i in range (1,10):\n",
    "    if i == 6:\n",
    "        continue \n",
    "    print(i)\n",
    "    print(\"hello hemant this side\")\n",
    "    "
   ]
  },
  {
   "cell_type": "code",
   "execution_count": 39,
   "id": "8a3e15d5",
   "metadata": {},
   "outputs": [
    {
     "name": "stdout",
     "output_type": "stream",
     "text": [
      "1\n",
      "Tgc\n",
      "2\n",
      "Tgc\n",
      "3\n",
      "Tgc\n",
      "4\n",
      "Tgc\n",
      "5\n",
      "Tgc\n",
      "7\n",
      "Tgc\n",
      "8\n",
      "Tgc\n",
      "9\n",
      "Tgc\n"
     ]
    }
   ],
   "source": [
    "for i in range (1,10):\n",
    "    if i == 6:\n",
    "        continue \n",
    "    print(i)\n",
    "    print(\"Tgc\")\n",
    "    "
   ]
  },
  {
   "cell_type": "markdown",
   "id": "2ea9ef1a",
   "metadata": {},
   "source": [
    "# The pass statement"
   ]
  },
  {
   "cell_type": "code",
   "execution_count": 47,
   "id": "5bdf768c",
   "metadata": {},
   "outputs": [
    {
     "name": "stdout",
     "output_type": "stream",
     "text": [
      "hello\n"
     ]
    }
   ],
   "source": [
    "for i in [1,25,3]:\n",
    "    pass\n",
    "    \n",
    "    \n",
    "print(\"hello\")"
   ]
  },
  {
   "cell_type": "code",
   "execution_count": 52,
   "id": "406a32f4",
   "metadata": {},
   "outputs": [
    {
     "name": "stdout",
     "output_type": "stream",
     "text": [
      "hello\n",
      "7\n"
     ]
    }
   ],
   "source": [
    "for i in [1,25,3]:\n",
    "    pass\n",
    "    \n",
    "    \n",
    "print(\"hello\")\n",
    "print(2+5)"
   ]
  },
  {
   "cell_type": "markdown",
   "id": "c78da256",
   "metadata": {},
   "source": [
    "# Else in for loop"
   ]
  },
  {
   "cell_type": "code",
   "execution_count": 53,
   "id": "0a56685d",
   "metadata": {},
   "outputs": [
    {
     "name": "stdout",
     "output_type": "stream",
     "text": [
      " enter the number: 7\n",
      "7 is a prime number\n"
     ]
    }
   ],
   "source": [
    "n=int(input(\" enter the number: \"))\n",
    "\n",
    "\n",
    "for i in range(2,n):\n",
    "    if n%i==0:\n",
    "        print(f\"{n} is a composite number\")\n",
    "        break\n",
    "\n",
    "else:\n",
    "    print(F\"{n} is a prime number\")"
   ]
  },
  {
   "cell_type": "code",
   "execution_count": 54,
   "id": "18a13747",
   "metadata": {},
   "outputs": [
    {
     "name": "stdout",
     "output_type": "stream",
     "text": [
      " enter the number: 15\n",
      "15 is a composite number\n"
     ]
    }
   ],
   "source": [
    "n=int(input(\" enter the number: \"))\n",
    "\n",
    "\n",
    "for i in range(2,n):\n",
    "    if n%i==0:\n",
    "        print(f\"{n} is a composite number\")\n",
    "        break\n",
    "\n",
    "else:\n",
    "    print(F\"{n} is a prime number\")"
   ]
  },
  {
   "cell_type": "code",
   "execution_count": 55,
   "id": "60af9ddd",
   "metadata": {},
   "outputs": [
    {
     "name": "stdout",
     "output_type": "stream",
     "text": [
      " enter the number: 12\n",
      "12 is a composite number\n"
     ]
    }
   ],
   "source": [
    "n=int(input(\" enter the number: \"))\n",
    "\n",
    "\n",
    "for i in range(2,n):\n",
    "    if n%i==0:\n",
    "        print(f\"{n} is a composite number\")\n",
    "        break\n",
    "\n",
    "else:\n",
    "    print(F\"{n} is a prime number\")"
   ]
  },
  {
   "cell_type": "code",
   "execution_count": 56,
   "id": "ee7ebc8e",
   "metadata": {},
   "outputs": [
    {
     "name": "stdout",
     "output_type": "stream",
     "text": [
      " enter the number: 78\n",
      "78 is a composite number\n"
     ]
    }
   ],
   "source": [
    "n=int(input(\" enter the number: \"))\n",
    "\n",
    "\n",
    "for i in range(2,n):\n",
    "    if n%i==0:\n",
    "        print(f\"{n} is a composite number\")\n",
    "        break\n",
    "\n",
    "else:\n",
    "    print(F\"{n} is a prime number\")"
   ]
  },
  {
   "cell_type": "code",
   "execution_count": 58,
   "id": "a643a8fc",
   "metadata": {},
   "outputs": [
    {
     "name": "stdout",
     "output_type": "stream",
     "text": [
      " enter the number: 9\n",
      "9 is a composite number\n"
     ]
    }
   ],
   "source": [
    "n=int(input(\" enter the number: \"))\n",
    "\n",
    "\n",
    "for i in range(2,n):\n",
    "    if n%i==0:\n",
    "        print(f\"{n} is a composite number\")\n",
    "        break\n",
    "\n",
    "else:\n",
    "    print(F\"{n} is a prime number\")"
   ]
  },
  {
   "cell_type": "code",
   "execution_count": 59,
   "id": "1ec97006",
   "metadata": {},
   "outputs": [
    {
     "name": "stdout",
     "output_type": "stream",
     "text": [
      " enter the number: 3\n",
      "3 is a prime number\n"
     ]
    }
   ],
   "source": [
    "n=int(input(\" enter the number: \"))\n",
    "\n",
    "\n",
    "for i in range(2,n):\n",
    "    if n%i==0:\n",
    "        print(f\"{n} is a composite number\")\n",
    "        break\n",
    "\n",
    "else:\n",
    "    print(F\"{n} is a prime number\")"
   ]
  },
  {
   "cell_type": "markdown",
   "id": "cb41f830",
   "metadata": {},
   "source": [
    "# Nested loop"
   ]
  },
  {
   "cell_type": "code",
   "execution_count": 60,
   "id": "9e7afec2",
   "metadata": {},
   "outputs": [
    {
     "name": "stdout",
     "output_type": "stream",
     "text": [
      "[8, 10, 12, 12, 15, 18]\n"
     ]
    }
   ],
   "source": [
    "x=[2,3]\n",
    "y=[4,5,6]\n",
    "z=[]\n",
    "\n",
    "for i in x:\n",
    "    for j in y:\n",
    "        z.append(i*j)\n",
    "\n",
    "print(z)"
   ]
  },
  {
   "cell_type": "raw",
   "id": "0ca5e112",
   "metadata": {},
   "source": [
    "1\n",
    "1 2\n",
    "1 2 3\n",
    "1 2 3 4\n",
    "1 2 3 4 5\n"
   ]
  },
  {
   "cell_type": "code",
   "execution_count": 62,
   "id": "7e2dd166",
   "metadata": {},
   "outputs": [
    {
     "name": "stdout",
     "output_type": "stream",
     "text": [
      "1 \n",
      "1 2 \n",
      "1 2 3 \n",
      "1 2 3 4 \n",
      "1 2 3 4 5 \n"
     ]
    }
   ],
   "source": [
    "for i in range(1,6):\n",
    "    for j in range(1,i+1):\n",
    "        print(j,end=\" \")\n",
    "    print(\"\")\n",
    "    "
   ]
  },
  {
   "cell_type": "raw",
   "id": "f7edb719",
   "metadata": {},
   "source": [
    "A\n",
    "A B\n",
    "A B C\n",
    "A B C D\n",
    "A B C D E"
   ]
  },
  {
   "cell_type": "code",
   "execution_count": 81,
   "id": "135934bd",
   "metadata": {},
   "outputs": [
    {
     "name": "stdout",
     "output_type": "stream",
     "text": [
      "A  \n",
      "A B  \n",
      "A B C  \n",
      "A B C D  \n",
      "A B C D E  \n"
     ]
    }
   ],
   "source": [
    "for i in range(1,6):\n",
    "    k=65\n",
    "    for j in range(i):\n",
    "        print(chr(k+j),end=\" \")\n",
    "    print(\" \")"
   ]
  },
  {
   "cell_type": "code",
   "execution_count": 72,
   "id": "b70a97dc",
   "metadata": {},
   "outputs": [
    {
     "name": "stdout",
     "output_type": "stream",
     "text": [
      "*\n",
      "**\n",
      "***\n",
      "****\n",
      "*****\n",
      "******\n",
      "*******\n",
      "********\n",
      "*********\n",
      "**********\n"
     ]
    }
   ],
   "source": [
    "i=1\n",
    "\n",
    "while i<=10:\n",
    "    print(\"*\"*i)\n",
    "    i+=1"
   ]
  },
  {
   "cell_type": "raw",
   "id": "392ae853",
   "metadata": {},
   "source": [
    "*\n",
    "**\n",
    "***\n",
    "****\n",
    "*****"
   ]
  },
  {
   "cell_type": "code",
   "execution_count": 73,
   "id": "833007c9",
   "metadata": {},
   "outputs": [
    {
     "name": "stdout",
     "output_type": "stream",
     "text": [
      "*\n",
      "**\n",
      "***\n",
      "****\n",
      "*****\n"
     ]
    }
   ],
   "source": [
    "i=1\n",
    "\n",
    "while i<=5:\n",
    "    print(\"*\"*i)\n",
    "    i+=1"
   ]
  },
  {
   "cell_type": "code",
   "execution_count": null,
   "id": "f8727639",
   "metadata": {},
   "outputs": [],
   "source": [
    "A\n",
    "BB\n",
    "CCC\n",
    "DDDD\n",
    "EEEEE"
   ]
  },
  {
   "cell_type": "code",
   "execution_count": 84,
   "id": "15c46e6f",
   "metadata": {},
   "outputs": [
    {
     "name": "stdout",
     "output_type": "stream",
     "text": [
      "A\n",
      "BB\n",
      "CCC\n",
      "DDDD\n",
      "EEEEE\n"
     ]
    }
   ],
   "source": [
    "k=65\n",
    "for i in range(5):\n",
    "    print(chr(k+i)*(i+1))"
   ]
  },
  {
   "cell_type": "raw",
   "id": "07c514ce",
   "metadata": {},
   "source": [
    "1010101\n",
    "10101\n",
    "101\n",
    "1"
   ]
  },
  {
   "cell_type": "code",
   "execution_count": 105,
   "id": "8c5b4507",
   "metadata": {},
   "outputs": [
    {
     "name": "stdout",
     "output_type": "stream",
     "text": [
      "1\n",
      "2\n",
      "2\n",
      "3\n",
      "3\n",
      "3\n",
      "4\n",
      "4\n",
      "4\n",
      "4\n"
     ]
    }
   ],
   "source": [
    "for i in range(1,5):\n",
    "    for k in range(1,i+1):\n",
    "        print(i)"
   ]
  },
  {
   "cell_type": "code",
   "execution_count": 100,
   "id": "87d6410d",
   "metadata": {},
   "outputs": [
    {
     "name": "stdout",
     "output_type": "stream",
     "text": [
      "enter the number:4,12\n",
      "lcm of 4 and 12 is 12\n"
     ]
    }
   ],
   "source": [
    "a,b=map(int,input(\"enter the number:\").split(\",\"))\n",
    "\n",
    "c=max(a,b)\n",
    "\n",
    "while True:\n",
    "    if c%a==0 and c%b==0:\n",
    "        print(f\"lcm of {a} and {b} is {c}\")\n",
    "        break\n",
    "    c+=1"
   ]
  },
  {
   "cell_type": "markdown",
   "id": "ded98a82",
   "metadata": {},
   "source": [
    "# List comprehension"
   ]
  },
  {
   "cell_type": "code",
   "execution_count": 4,
   "id": "bd1048de",
   "metadata": {},
   "outputs": [
    {
     "data": {
      "text/plain": [
       "[4, 16, 25, 36, 49]"
      ]
     },
     "execution_count": 4,
     "metadata": {},
     "output_type": "execute_result"
    }
   ],
   "source": [
    "l=[2,4,5,6,7]\n",
    "lst=[]\n",
    "\n",
    "for i in l:\n",
    "    lst.append(i**2)\n",
    "    \n",
    "lst"
   ]
  },
  {
   "cell_type": "code",
   "execution_count": 6,
   "id": "bc43fa7e",
   "metadata": {},
   "outputs": [
    {
     "data": {
      "text/plain": [
       "[4, 16, 25, 36, 49]"
      ]
     },
     "execution_count": 6,
     "metadata": {},
     "output_type": "execute_result"
    }
   ],
   "source": [
    "[i**2 for i in l]"
   ]
  },
  {
   "cell_type": "code",
   "execution_count": 8,
   "id": "75228df8",
   "metadata": {},
   "outputs": [
    {
     "data": {
      "text/plain": [
       "[2, 4, 6]"
      ]
     },
     "execution_count": 8,
     "metadata": {},
     "output_type": "execute_result"
    }
   ],
   "source": [
    "l1=[]\n",
    "for i in l:\n",
    "    if i%2==0:\n",
    "        l1.append(i)\n",
    "        \n",
    "l1"
   ]
  },
  {
   "cell_type": "code",
   "execution_count": 9,
   "id": "a98f86d6",
   "metadata": {},
   "outputs": [
    {
     "data": {
      "text/plain": [
       "[2, 4, 6]"
      ]
     },
     "execution_count": 9,
     "metadata": {},
     "output_type": "execute_result"
    }
   ],
   "source": [
    "[i for i in l if i%2==0]"
   ]
  },
  {
   "cell_type": "code",
   "execution_count": 1,
   "id": "a5ef33d1",
   "metadata": {},
   "outputs": [
    {
     "name": "stdout",
     "output_type": "stream",
     "text": [
      "enter the number10,15,16,3,2,74,85,9\n",
      "even= [10]\n",
      "odd = []\n",
      "even= [10]\n",
      "odd = [15]\n",
      "even= [10, 16]\n",
      "odd = [15]\n",
      "even= [10, 16]\n",
      "odd = [15, 3]\n",
      "even= [10, 16, 2]\n",
      "odd = [15, 3]\n",
      "even= [10, 16, 2, 74]\n",
      "odd = [15, 3]\n",
      "even= [10, 16, 2, 74]\n",
      "odd = [15, 3, 85]\n",
      "even= [10, 16, 2, 74]\n",
      "odd = [15, 3, 85, 9]\n"
     ]
    }
   ],
   "source": [
    "l=list(map(int,input(\"enter the number\").split (\",\")))\n",
    "even=[]\n",
    "odd=[]\n",
    "\n",
    "for i in l:\n",
    "    if i%2==0:\n",
    "        even.append(i)\n",
    "    else:\n",
    "        odd.append(i)\n",
    "    print(f\"even= {even}\\nodd = {odd}\")\n",
    "    "
   ]
  },
  {
   "cell_type": "code",
   "execution_count": 2,
   "id": "52cf978a",
   "metadata": {},
   "outputs": [],
   "source": [
    "even= [i for i in l if i%2==0]\n",
    "odd= [i for i in l if i%2==0]"
   ]
  },
  {
   "cell_type": "code",
   "execution_count": 3,
   "id": "f4ee809c",
   "metadata": {},
   "outputs": [
    {
     "data": {
      "text/plain": [
       "[10, 16, 2, 74]"
      ]
     },
     "execution_count": 3,
     "metadata": {},
     "output_type": "execute_result"
    }
   ],
   "source": [
    "even"
   ]
  },
  {
   "cell_type": "code",
   "execution_count": 4,
   "id": "6d85e21c",
   "metadata": {},
   "outputs": [
    {
     "data": {
      "text/plain": [
       "[10, 16, 2, 74]"
      ]
     },
     "execution_count": 4,
     "metadata": {},
     "output_type": "execute_result"
    }
   ],
   "source": [
    "odd"
   ]
  },
  {
   "cell_type": "code",
   "execution_count": 5,
   "id": "8e3a2234",
   "metadata": {},
   "outputs": [],
   "source": [
    "# return orange instead of apple\n"
   ]
  },
  {
   "cell_type": "code",
   "execution_count": 7,
   "id": "2fa16275",
   "metadata": {},
   "outputs": [
    {
     "name": "stdout",
     "output_type": "stream",
     "text": [
      "enter the fruits name: apple, orange,kiwi\n"
     ]
    },
    {
     "data": {
      "text/plain": [
       "['orange', ' orange', 'kiwi']"
      ]
     },
     "execution_count": 7,
     "metadata": {},
     "output_type": "execute_result"
    }
   ],
   "source": [
    "fruits = input(\"enter the fruits name: \").split(\",\")\n",
    "lst=[]\n",
    "\n",
    "for i in fruits:\n",
    "    if i ==\"apple\":\n",
    "        lst.append(\"orange\")\n",
    "    else:\n",
    "        lst.append(i)\n",
    "\n",
    "lst"
   ]
  },
  {
   "cell_type": "code",
   "execution_count": 10,
   "id": "d30a646b",
   "metadata": {},
   "outputs": [
    {
     "name": "stdout",
     "output_type": "stream",
     "text": [
      "[22, 32, 42, 52, 23, 33, 43, 53, 24, 34, 44, 54, 25, 35, 45, 55]\n"
     ]
    }
   ],
   "source": [
    "first = [2,3,4,5]\n",
    "second =[20,30,40,50]\n",
    "\n",
    "final =[]\n",
    "\n",
    "for i in first:\n",
    "    for j in second:\n",
    "        final.append(j+i)\n",
    "print(final)"
   ]
  },
  {
   "cell_type": "code",
   "execution_count": 11,
   "id": "d1a7293c",
   "metadata": {},
   "outputs": [
    {
     "data": {
      "text/plain": [
       "[22, 32, 42, 52, 23, 33, 43, 53, 24, 34, 44, 54, 25, 35, 45, 55]"
      ]
     },
     "execution_count": 11,
     "metadata": {},
     "output_type": "execute_result"
    }
   ],
   "source": [
    "[j+i for i in first for j in second]"
   ]
  },
  {
   "cell_type": "code",
   "execution_count": 12,
   "id": "0c23cccf",
   "metadata": {},
   "outputs": [
    {
     "name": "stdout",
     "output_type": "stream",
     "text": [
      "[55, 45, 35, 25, 54, 44, 34, 24, 53, 43, 33, 23, 52, 42, 32, 22]\n"
     ]
    }
   ],
   "source": [
    "irst = [2,3,4,5]\n",
    "second =[20,30,40,50]\n",
    "\n",
    "final =[]\n",
    "first.reverse()\n",
    "second.reverse()\n",
    "\n",
    "for i in first:\n",
    "    for j in second:\n",
    "        final.append(j+i)\n",
    "print(final)"
   ]
  },
  {
   "cell_type": "markdown",
   "id": "845139ef",
   "metadata": {},
   "source": [
    "# Tuples"
   ]
  },
  {
   "cell_type": "markdown",
   "id": "6477b2a3",
   "metadata": {},
   "source": [
    ". similar to list ( but read only)\n",
    ". indexable\n",
    ". immuutable\n",
    ". allow duplicate values\n",
    ". tuples are written wiht round brackets\n",
    ". allow heterogenous elements\n",
    ". ordered collection of iteams"
   ]
  },
  {
   "cell_type": "code",
   "execution_count": 4,
   "id": "2bb5ee2c",
   "metadata": {},
   "outputs": [],
   "source": [
    "l = (1,2,3)"
   ]
  },
  {
   "cell_type": "code",
   "execution_count": 5,
   "id": "2b875ff4",
   "metadata": {},
   "outputs": [
    {
     "data": {
      "text/plain": [
       "tuple"
      ]
     },
     "execution_count": 5,
     "metadata": {},
     "output_type": "execute_result"
    }
   ],
   "source": [
    "type(l)"
   ]
  },
  {
   "cell_type": "code",
   "execution_count": null,
   "id": "f2354f2b",
   "metadata": {},
   "outputs": [],
   "source": [
    "# empty tuple"
   ]
  },
  {
   "cell_type": "code",
   "execution_count": 6,
   "id": "492d84e0",
   "metadata": {},
   "outputs": [],
   "source": [
    "z = tuple()"
   ]
  },
  {
   "cell_type": "code",
   "execution_count": 7,
   "id": "bec4fd0b",
   "metadata": {},
   "outputs": [
    {
     "data": {
      "text/plain": [
       "tuple"
      ]
     },
     "execution_count": 7,
     "metadata": {},
     "output_type": "execute_result"
    }
   ],
   "source": [
    "type(z)"
   ]
  },
  {
   "cell_type": "code",
   "execution_count": 8,
   "id": "8367d741",
   "metadata": {},
   "outputs": [],
   "source": [
    "# for one element: only parenthesis is not enough"
   ]
  },
  {
   "cell_type": "code",
   "execution_count": 9,
   "id": "c43b3c25",
   "metadata": {},
   "outputs": [],
   "source": [
    "tup= ('hemant')"
   ]
  },
  {
   "cell_type": "code",
   "execution_count": 10,
   "id": "4a6b7cb0",
   "metadata": {},
   "outputs": [
    {
     "data": {
      "text/plain": [
       "str"
      ]
     },
     "execution_count": 10,
     "metadata": {},
     "output_type": "execute_result"
    }
   ],
   "source": [
    "type(tup)"
   ]
  },
  {
   "cell_type": "code",
   "execution_count": 11,
   "id": "d2d4f0e3",
   "metadata": {},
   "outputs": [],
   "source": [
    "l=[1]"
   ]
  },
  {
   "cell_type": "code",
   "execution_count": 12,
   "id": "55ad2776",
   "metadata": {},
   "outputs": [
    {
     "data": {
      "text/plain": [
       "list"
      ]
     },
     "execution_count": 12,
     "metadata": {},
     "output_type": "execute_result"
    }
   ],
   "source": [
    "type(l)"
   ]
  },
  {
   "cell_type": "code",
   "execution_count": 13,
   "id": "2b0bf297",
   "metadata": {},
   "outputs": [],
   "source": [
    "l = (1,)"
   ]
  },
  {
   "cell_type": "code",
   "execution_count": 14,
   "id": "aa038a6c",
   "metadata": {},
   "outputs": [
    {
     "data": {
      "text/plain": [
       "tuple"
      ]
     },
     "execution_count": 14,
     "metadata": {},
     "output_type": "execute_result"
    }
   ],
   "source": [
    "type(l)"
   ]
  },
  {
   "cell_type": "code",
   "execution_count": 15,
   "id": "0f272089",
   "metadata": {},
   "outputs": [],
   "source": [
    "# tuple can contain different data types:"
   ]
  },
  {
   "cell_type": "code",
   "execution_count": 18,
   "id": "ceaea998",
   "metadata": {},
   "outputs": [],
   "source": [
    "T = (2,3,4,False,[2,3,4],(2,3,))"
   ]
  },
  {
   "cell_type": "code",
   "execution_count": 20,
   "id": "2492d337",
   "metadata": {},
   "outputs": [
    {
     "data": {
      "text/plain": [
       "(2, 3, 4, False, [2, 3, 4], (2, 3))"
      ]
     },
     "execution_count": 20,
     "metadata": {},
     "output_type": "execute_result"
    }
   ],
   "source": [
    "T"
   ]
  },
  {
   "cell_type": "code",
   "execution_count": 21,
   "id": "072ffb98",
   "metadata": {},
   "outputs": [],
   "source": [
    "# ACCESS ELEMENTS IN TUPLES"
   ]
  },
  {
   "cell_type": "code",
   "execution_count": 23,
   "id": "5ebe4b06",
   "metadata": {},
   "outputs": [
    {
     "data": {
      "text/plain": [
       "False"
      ]
     },
     "execution_count": 23,
     "metadata": {},
     "output_type": "execute_result"
    }
   ],
   "source": [
    "T[3]"
   ]
  },
  {
   "cell_type": "code",
   "execution_count": 24,
   "id": "219e8c13",
   "metadata": {},
   "outputs": [
    {
     "data": {
      "text/plain": [
       "[2, 3, 4]"
      ]
     },
     "execution_count": 24,
     "metadata": {},
     "output_type": "execute_result"
    }
   ],
   "source": [
    "T[-2]"
   ]
  },
  {
   "cell_type": "code",
   "execution_count": 26,
   "id": "3301f125",
   "metadata": {},
   "outputs": [
    {
     "data": {
      "text/plain": [
       "3"
      ]
     },
     "execution_count": 26,
     "metadata": {},
     "output_type": "execute_result"
    }
   ],
   "source": [
    "T[1]"
   ]
  },
  {
   "cell_type": "code",
   "execution_count": 27,
   "id": "8f1747f5",
   "metadata": {},
   "outputs": [
    {
     "data": {
      "text/plain": [
       "(2, 3, 4, False, [2, 3, 4], (2, 3))"
      ]
     },
     "execution_count": 27,
     "metadata": {},
     "output_type": "execute_result"
    }
   ],
   "source": [
    "T"
   ]
  },
  {
   "cell_type": "code",
   "execution_count": 31,
   "id": "edc8fdce",
   "metadata": {},
   "outputs": [
    {
     "data": {
      "text/plain": [
       "(False, [2, 3, 4], (2, 3))"
      ]
     },
     "execution_count": 31,
     "metadata": {},
     "output_type": "execute_result"
    }
   ],
   "source": [
    "T[3:6]"
   ]
  },
  {
   "cell_type": "code",
   "execution_count": 34,
   "id": "08ec7889",
   "metadata": {},
   "outputs": [
    {
     "data": {
      "text/plain": [
       "(2, 3, 4, False, [2, 3, 4])"
      ]
     },
     "execution_count": 34,
     "metadata": {},
     "output_type": "execute_result"
    }
   ],
   "source": [
    "T[:5]"
   ]
  },
  {
   "cell_type": "code",
   "execution_count": 35,
   "id": "4d5286e8",
   "metadata": {},
   "outputs": [
    {
     "data": {
      "text/plain": [
       "(2, 3, 4, False, [2, 3, 4], (2, 3))"
      ]
     },
     "execution_count": 35,
     "metadata": {},
     "output_type": "execute_result"
    }
   ],
   "source": [
    "T"
   ]
  },
  {
   "cell_type": "code",
   "execution_count": 39,
   "id": "d4ad4693",
   "metadata": {},
   "outputs": [
    {
     "data": {
      "text/plain": [
       "((2, 3), False, 3)"
      ]
     },
     "execution_count": 39,
     "metadata": {},
     "output_type": "execute_result"
    }
   ],
   "source": [
    "T[::-2]"
   ]
  },
  {
   "cell_type": "code",
   "execution_count": 40,
   "id": "d7de60f8",
   "metadata": {},
   "outputs": [
    {
     "ename": "SyntaxError",
     "evalue": "invalid syntax (2782616742.py, line 1)",
     "output_type": "error",
     "traceback": [
      "\u001b[1;36m  Cell \u001b[1;32mIn[40], line 1\u001b[1;36m\u001b[0m\n\u001b[1;33m    t[]\u001b[0m\n\u001b[1;37m      ^\u001b[0m\n\u001b[1;31mSyntaxError\u001b[0m\u001b[1;31m:\u001b[0m invalid syntax\n"
     ]
    }
   ],
   "source": [
    "t[]"
   ]
  },
  {
   "cell_type": "code",
   "execution_count": 44,
   "id": "89588c39",
   "metadata": {},
   "outputs": [
    {
     "data": {
      "text/plain": [
       "(3, False, (2, 3))"
      ]
     },
     "execution_count": 44,
     "metadata": {},
     "output_type": "execute_result"
    }
   ],
   "source": [
    "T[1::2]"
   ]
  },
  {
   "cell_type": "code",
   "execution_count": 46,
   "id": "fde85847",
   "metadata": {},
   "outputs": [
    {
     "data": {
      "text/plain": [
       "([2, 3, 4], False, 4)"
      ]
     },
     "execution_count": 46,
     "metadata": {},
     "output_type": "execute_result"
    }
   ],
   "source": [
    "T[-2:-5:-1]"
   ]
  },
  {
   "cell_type": "markdown",
   "id": "f9340427",
   "metadata": {},
   "source": [
    "# Changing a Tuple Not possible"
   ]
  },
  {
   "cell_type": "code",
   "execution_count": 49,
   "id": "29c04b00",
   "metadata": {},
   "outputs": [],
   "source": [
    "# tuple value change into the list"
   ]
  },
  {
   "cell_type": "code",
   "execution_count": 50,
   "id": "6ed48aae",
   "metadata": {},
   "outputs": [],
   "source": [
    "# join two tuples ( concatintaion)"
   ]
  },
  {
   "cell_type": "code",
   "execution_count": 51,
   "id": "9677e2e8",
   "metadata": {},
   "outputs": [],
   "source": [
    "T1=(1,2,3,4)\n",
    "T2=('hemant','vinit','naman','rahul')"
   ]
  },
  {
   "cell_type": "code",
   "execution_count": 61,
   "id": "d2c95227",
   "metadata": {},
   "outputs": [],
   "source": [
    "T3=T2+T1"
   ]
  },
  {
   "cell_type": "code",
   "execution_count": 64,
   "id": "56d323f0",
   "metadata": {},
   "outputs": [
    {
     "data": {
      "text/plain": [
       "('hemant', 'vinit', 'naman', 'rahul', 1, 2, 3, 4)"
      ]
     },
     "execution_count": 64,
     "metadata": {},
     "output_type": "execute_result"
    }
   ],
   "source": [
    "T3"
   ]
  },
  {
   "cell_type": "code",
   "execution_count": 65,
   "id": "c11abc22",
   "metadata": {},
   "outputs": [
    {
     "data": {
      "text/plain": [
       "(1, 2, 3, 4, 'hemant', 'vinit', 'naman', 'rahul')"
      ]
     },
     "execution_count": 65,
     "metadata": {},
     "output_type": "execute_result"
    }
   ],
   "source": [
    "T1+T2"
   ]
  },
  {
   "cell_type": "markdown",
   "id": "286483d2",
   "metadata": {},
   "source": [
    "# TUPLES METHODS"
   ]
  },
  {
   "cell_type": "markdown",
   "id": "57b43829",
   "metadata": {},
   "source": [
    ". Count\n",
    ". Index"
   ]
  },
  {
   "cell_type": "code",
   "execution_count": 66,
   "id": "63c62e8b",
   "metadata": {},
   "outputs": [
    {
     "data": {
      "text/plain": [
       "4"
      ]
     },
     "execution_count": 66,
     "metadata": {},
     "output_type": "execute_result"
    }
   ],
   "source": [
    "T3.index(1)"
   ]
  },
  {
   "cell_type": "code",
   "execution_count": 75,
   "id": "c6542ffa",
   "metadata": {},
   "outputs": [
    {
     "data": {
      "text/plain": [
       "2"
      ]
     },
     "execution_count": 75,
     "metadata": {},
     "output_type": "execute_result"
    }
   ],
   "source": [
    "T2.index('naman')"
   ]
  },
  {
   "cell_type": "code",
   "execution_count": 79,
   "id": "e5dd08d1",
   "metadata": {},
   "outputs": [
    {
     "data": {
      "text/plain": [
       "2"
      ]
     },
     "execution_count": 79,
     "metadata": {},
     "output_type": "execute_result"
    }
   ],
   "source": [
    "T2[2].count('a')"
   ]
  },
  {
   "cell_type": "markdown",
   "id": "a2a546d3",
   "metadata": {},
   "source": [
    "# Tuple Membership : In / Not In"
   ]
  },
  {
   "cell_type": "code",
   "execution_count": 80,
   "id": "73cd9c70",
   "metadata": {},
   "outputs": [
    {
     "data": {
      "text/plain": [
       "True"
      ]
     },
     "execution_count": 80,
     "metadata": {},
     "output_type": "execute_result"
    }
   ],
   "source": [
    "'hemant' in T3"
   ]
  },
  {
   "cell_type": "code",
   "execution_count": 81,
   "id": "033a6a1c",
   "metadata": {},
   "outputs": [
    {
     "data": {
      "text/plain": [
       "False"
      ]
     },
     "execution_count": 81,
     "metadata": {},
     "output_type": "execute_result"
    }
   ],
   "source": [
    "'sonu' in T3"
   ]
  },
  {
   "cell_type": "code",
   "execution_count": 82,
   "id": "228a3046",
   "metadata": {},
   "outputs": [
    {
     "data": {
      "text/plain": [
       "True"
      ]
     },
     "execution_count": 82,
     "metadata": {},
     "output_type": "execute_result"
    }
   ],
   "source": [
    "'sonu'  not in T3"
   ]
  },
  {
   "cell_type": "markdown",
   "id": "7c92eae6",
   "metadata": {},
   "source": [
    "# Unpacking Tuple"
   ]
  },
  {
   "cell_type": "code",
   "execution_count": 83,
   "id": "a6b598ec",
   "metadata": {},
   "outputs": [
    {
     "data": {
      "text/plain": [
       "[2, 3, 4, False, [2, 3, 4], (2, 3)]"
      ]
     },
     "execution_count": 83,
     "metadata": {},
     "output_type": "execute_result"
    }
   ],
   "source": [
    "T"
   ]
  },
  {
   "cell_type": "code",
   "execution_count": 84,
   "id": "ca0ec9cd",
   "metadata": {},
   "outputs": [
    {
     "data": {
      "text/plain": [
       "6"
      ]
     },
     "execution_count": 84,
     "metadata": {},
     "output_type": "execute_result"
    }
   ],
   "source": [
    "len(T)"
   ]
  },
  {
   "cell_type": "code",
   "execution_count": 86,
   "id": "8684feb1",
   "metadata": {},
   "outputs": [],
   "source": [
    "a,b,c,d,e,f=T"
   ]
  },
  {
   "cell_type": "code",
   "execution_count": 87,
   "id": "ce2fd0bf",
   "metadata": {},
   "outputs": [
    {
     "data": {
      "text/plain": [
       "2"
      ]
     },
     "execution_count": 87,
     "metadata": {},
     "output_type": "execute_result"
    }
   ],
   "source": [
    "a"
   ]
  },
  {
   "cell_type": "code",
   "execution_count": 88,
   "id": "51671fd2",
   "metadata": {},
   "outputs": [
    {
     "data": {
      "text/plain": [
       "3"
      ]
     },
     "execution_count": 88,
     "metadata": {},
     "output_type": "execute_result"
    }
   ],
   "source": [
    "b"
   ]
  },
  {
   "cell_type": "code",
   "execution_count": 89,
   "id": "aa20a616",
   "metadata": {},
   "outputs": [
    {
     "data": {
      "text/plain": [
       "[2, 3, 4]"
      ]
     },
     "execution_count": 89,
     "metadata": {},
     "output_type": "execute_result"
    }
   ],
   "source": [
    "e"
   ]
  },
  {
   "cell_type": "code",
   "execution_count": null,
   "id": "49bb7c4a",
   "metadata": {},
   "outputs": [],
   "source": []
  },
  {
   "cell_type": "markdown",
   "id": "8ee85d59",
   "metadata": {},
   "source": [
    "# Using Asterisk*"
   ]
  },
  {
   "cell_type": "code",
   "execution_count": 90,
   "id": "2bf65311",
   "metadata": {},
   "outputs": [],
   "source": [
    "a,b,*c=T"
   ]
  },
  {
   "cell_type": "code",
   "execution_count": 91,
   "id": "be6645ec",
   "metadata": {},
   "outputs": [
    {
     "data": {
      "text/plain": [
       "2"
      ]
     },
     "execution_count": 91,
     "metadata": {},
     "output_type": "execute_result"
    }
   ],
   "source": [
    "a"
   ]
  },
  {
   "cell_type": "code",
   "execution_count": 92,
   "id": "d72dac0f",
   "metadata": {},
   "outputs": [
    {
     "data": {
      "text/plain": [
       "3"
      ]
     },
     "execution_count": 92,
     "metadata": {},
     "output_type": "execute_result"
    }
   ],
   "source": [
    "b"
   ]
  },
  {
   "cell_type": "code",
   "execution_count": 93,
   "id": "317b6ee7",
   "metadata": {},
   "outputs": [
    {
     "data": {
      "text/plain": [
       "[4, False, [2, 3, 4], (2, 3)]"
      ]
     },
     "execution_count": 93,
     "metadata": {},
     "output_type": "execute_result"
    }
   ],
   "source": [
    "c"
   ]
  },
  {
   "cell_type": "code",
   "execution_count": 97,
   "id": "1376f5ff",
   "metadata": {},
   "outputs": [
    {
     "data": {
      "text/plain": [
       "(2, 3, [4, False, [2, 3, 4], (2, 3)])"
      ]
     },
     "execution_count": 97,
     "metadata": {},
     "output_type": "execute_result"
    }
   ],
   "source": [
    "a,b,c"
   ]
  },
  {
   "cell_type": "code",
   "execution_count": 99,
   "id": "f2074868",
   "metadata": {},
   "outputs": [
    {
     "data": {
      "text/plain": [
       "[2, 3, 4, False, [2, 3, 4], (2, 3)]"
      ]
     },
     "execution_count": 99,
     "metadata": {},
     "output_type": "execute_result"
    }
   ],
   "source": [
    "T"
   ]
  },
  {
   "cell_type": "code",
   "execution_count": 105,
   "id": "2b3d0c6c",
   "metadata": {},
   "outputs": [],
   "source": [
    "*a,b,c=T"
   ]
  },
  {
   "cell_type": "code",
   "execution_count": 106,
   "id": "310f0134",
   "metadata": {},
   "outputs": [
    {
     "data": {
      "text/plain": [
       "[2, 3, 4, False, [2, 3, 4], (2, 3)]"
      ]
     },
     "execution_count": 106,
     "metadata": {},
     "output_type": "execute_result"
    }
   ],
   "source": [
    "T"
   ]
  },
  {
   "cell_type": "markdown",
   "id": "83111331",
   "metadata": {},
   "source": [
    "# While loop through Tuple"
   ]
  },
  {
   "cell_type": "code",
   "execution_count": 2,
   "id": "92febdc4",
   "metadata": {},
   "outputs": [
    {
     "name": "stdout",
     "output_type": "stream",
     "text": [
      "eneter the items4,5,6,7,8\n",
      "4\n",
      "5\n",
      "6\n",
      "7\n",
      "8\n"
     ]
    }
   ],
   "source": [
    "t= tuple (map(int,input(\"eneter the items\").split(\",\")))\n",
    "\n",
    "\n",
    "i=0\n",
    "while i<len(t):\n",
    "    print(t[i])\n",
    "    i+=1"
   ]
  },
  {
   "cell_type": "code",
   "execution_count": 3,
   "id": "d12e3777",
   "metadata": {},
   "outputs": [
    {
     "name": "stdout",
     "output_type": "stream",
     "text": [
      "enter the name of language: english,maths,hindi,science,gk\n",
      "english is 7 letters long\n",
      "maths is 5 letters long\n",
      "hindi is 5 letters long\n",
      "science is 7 letters long\n",
      "gk is 2 letters long\n"
     ]
    }
   ],
   "source": [
    "tup = tuple(input(\"enter the name of language: \").split(\",\"))\n",
    "\n",
    "i=0\n",
    "while i<len(tup):\n",
    "    print(f\"{tup[i]} is {len(tup[i])} letters long\")\n",
    "    i+=1"
   ]
  },
  {
   "cell_type": "code",
   "execution_count": 4,
   "id": "5dd1e151",
   "metadata": {},
   "outputs": [
    {
     "name": "stdout",
     "output_type": "stream",
     "text": [
      "enter the name of language: English.Maths,S.S.T,Hindi,G.K,Computer,Science\n",
      "English.Maths is 13 letters long\n",
      "S.S.T is 5 letters long\n",
      "Hindi is 5 letters long\n",
      "G.K is 3 letters long\n",
      "Computer is 8 letters long\n",
      "Science is 7 letters long\n"
     ]
    }
   ],
   "source": [
    "tup = tuple(input(\"enter the name of language: \").split(\",\"))\n",
    "\n",
    "i=0\n",
    "while i<len(tup):\n",
    "    print(f\"{tup[i]} is {len(tup[i])} letters long\")\n",
    "    i+=1"
   ]
  },
  {
   "cell_type": "code",
   "execution_count": 10,
   "id": "e04a08f1",
   "metadata": {},
   "outputs": [
    {
     "name": "stdout",
     "output_type": "stream",
     "text": [
      "eneter the items1,2,3,45,58,65,25,35\n",
      "35\n",
      "25\n",
      "65\n",
      "58\n",
      "45\n",
      "3\n",
      "2\n",
      "1\n"
     ]
    }
   ],
   "source": [
    "t= tuple (map(int,input(\"eneter the items\").split(\",\")))\n",
    "t=t[::-1]\n",
    "\n",
    "i=0\n",
    "while i<len(t):\n",
    "    print(t[i])\n",
    "    i+=1"
   ]
  },
  {
   "cell_type": "code",
   "execution_count": 15,
   "id": "e85b6c1c",
   "metadata": {},
   "outputs": [
    {
     "name": "stdout",
     "output_type": "stream",
     "text": [
      "enter the item to be searched 10\n",
      "10 is a index 0 \n"
     ]
    }
   ],
   "source": [
    "_tuple = (10,20,30,40,50)\n",
    "find = int(input(\"enter the item to be searched \"))\n",
    "\n",
    "i=0\n",
    "if find in _tuple:\n",
    "    while i<len(_tuple):\n",
    "        if _tuple[i]==find:\n",
    "            print(f\"{find} is a index {i} \")\n",
    "        i+=1\n",
    "else:\n",
    "    print(f\"{find} is not present \")"
   ]
  },
  {
   "cell_type": "code",
   "execution_count": 18,
   "id": "0b75883e",
   "metadata": {},
   "outputs": [
    {
     "name": "stdout",
     "output_type": "stream",
     "text": [
      "25 is maximum value in (5, 10, 15, 20, 25)\n"
     ]
    }
   ],
   "source": [
    "# determine the maximum value in a tuple wihtout using the built - in max() function.\n",
    "tup = (5,10,15,20,25)\n",
    "\n",
    "_max=tup[0]\n",
    "i=0\n",
    "while i<len(tup):\n",
    "    if tup[i]>_max:\n",
    "        _max=tup[i]\n",
    "    i+=1\n",
    "        \n",
    "print(f\"{_max} is maximum value in {tup}\")"
   ]
  },
  {
   "cell_type": "code",
   "execution_count": 2,
   "id": "09a53e5e",
   "metadata": {},
   "outputs": [
    {
     "name": "stdout",
     "output_type": "stream",
     "text": [
      "enter the items5,6,7,8,9\n",
      "sum of items = <built-in function sum>\n"
     ]
    }
   ],
   "source": [
    "t=tuple(map(int,input(\"enter the items\").split(\",\")))\n",
    "\n",
    "i=0\n",
    "_sum=0\n",
    "while i<len(t):\n",
    "    _sum+=t[i]\n",
    "    i+=1\n",
    "print(f\"sum of items = {sum}\")"
   ]
  },
  {
   "cell_type": "code",
   "execution_count": 5,
   "id": "618e2755",
   "metadata": {},
   "outputs": [
    {
     "name": "stdout",
     "output_type": "stream",
     "text": [
      "25 is minimum value is (5, 10, 15, 20, 25)\n"
     ]
    }
   ],
   "source": [
    "tup = (5,10,15,20,25)\n",
    "_min=tup[0]\n",
    "i=0\n",
    "while i<len(tup):\n",
    "    _min=tup[i]\n",
    "    \n",
    "    i+=1\n",
    "print(f\"{_min} is minimum value is {tup}\")"
   ]
  },
  {
   "cell_type": "code",
   "execution_count": 11,
   "id": "6fee732a",
   "metadata": {},
   "outputs": [
    {
     "name": "stdout",
     "output_type": "stream",
     "text": [
      "5 is minimum value in (5, 10, 15, 20, 25)\n"
     ]
    }
   ],
   "source": [
    "tup = (5,10,15,20,25)\n",
    "_min=tup[0]\n",
    "for i in tup:\n",
    "    if i < _min:\n",
    "        _min=i\n",
    "print(f\"{_min} is minimum value in {tup}\")"
   ]
  },
  {
   "cell_type": "code",
   "execution_count": null,
   "id": "beb925f8",
   "metadata": {},
   "outputs": [],
   "source": [
    "tup=()\n",
    "\n",
    "\n",
    "for i in nested_tuple:\n",
    "    tup+=t\n",
    "print(tup)"
   ]
  },
  {
   "cell_type": "code",
   "execution_count": 12,
   "id": "eb24cb85",
   "metadata": {},
   "outputs": [],
   "source": [
    "t=()\n",
    "t1=(1,2)\n",
    "t=t+t1"
   ]
  },
  {
   "cell_type": "code",
   "execution_count": 13,
   "id": "b11f8703",
   "metadata": {},
   "outputs": [
    {
     "data": {
      "text/plain": [
       "(1, 2, 3, 4)"
      ]
     },
     "execution_count": 13,
     "metadata": {},
     "output_type": "execute_result"
    }
   ],
   "source": [
    "t1=(3,4)\n",
    "t+t1"
   ]
  },
  {
   "cell_type": "markdown",
   "id": "b9fc9975",
   "metadata": {},
   "source": [
    "# Tuple comprehension"
   ]
  },
  {
   "cell_type": "code",
   "execution_count": 21,
   "id": "cb4f6af6",
   "metadata": {},
   "outputs": [],
   "source": [
    "tup=(1,2,3,4,5,6,7,8,9,10)"
   ]
  },
  {
   "cell_type": "code",
   "execution_count": 22,
   "id": "2751b374",
   "metadata": {},
   "outputs": [
    {
     "data": {
      "text/plain": [
       "(1, 2, 3, 4, 5, 6, 7, 8, 9, 10)"
      ]
     },
     "execution_count": 22,
     "metadata": {},
     "output_type": "execute_result"
    }
   ],
   "source": [
    "tup"
   ]
  },
  {
   "cell_type": "code",
   "execution_count": 23,
   "id": "c76e74d9",
   "metadata": {},
   "outputs": [
    {
     "data": {
      "text/plain": [
       "(1, 2, 3, 4, 5, 6, 7, 8, 9, 10)"
      ]
     },
     "execution_count": 23,
     "metadata": {},
     "output_type": "execute_result"
    }
   ],
   "source": [
    "tuple( i for i in tup)"
   ]
  },
  {
   "cell_type": "code",
   "execution_count": 24,
   "id": "7ea1b512",
   "metadata": {},
   "outputs": [
    {
     "data": {
      "text/plain": [
       "(4, 16, 36, 64, 100)"
      ]
     },
     "execution_count": 24,
     "metadata": {},
     "output_type": "execute_result"
    }
   ],
   "source": [
    "tuple(i**2 for i in tup if i%2==0)"
   ]
  },
  {
   "cell_type": "code",
   "execution_count": 25,
   "id": "635cd33c",
   "metadata": {},
   "outputs": [
    {
     "data": {
      "text/plain": [
       "(('o', 1),\n",
       " ('e', 2),\n",
       " ('o', 3),\n",
       " ('e', 4),\n",
       " ('o', 5),\n",
       " ('e', 6),\n",
       " ('o', 7),\n",
       " ('e', 8),\n",
       " ('o', 9),\n",
       " ('e', 10))"
      ]
     },
     "execution_count": 25,
     "metadata": {},
     "output_type": "execute_result"
    }
   ],
   "source": [
    "tuple(('e',i) if i%2==0 else ('o',i) for i in tup)"
   ]
  },
  {
   "cell_type": "code",
   "execution_count": 27,
   "id": "92048f23",
   "metadata": {},
   "outputs": [
    {
     "data": {
      "text/plain": [
       "(10, 12, 14, 15, 18, 21, 20, 24, 28)"
      ]
     },
     "execution_count": 27,
     "metadata": {},
     "output_type": "execute_result"
    }
   ],
   "source": [
    "t1=[2,3,4]\n",
    "t2=[5,6,7]\n",
    "\n",
    "t=()\n",
    "for i in t1:\n",
    "    for j in t2:\n",
    "        t+=(i*j,)\n",
    "t"
   ]
  },
  {
   "cell_type": "code",
   "execution_count": 28,
   "id": "adee3dcc",
   "metadata": {},
   "outputs": [
    {
     "data": {
      "text/plain": [
       "(10, 12, 14, 15, 18, 21, 20, 24, 28)"
      ]
     },
     "execution_count": 28,
     "metadata": {},
     "output_type": "execute_result"
    }
   ],
   "source": [
    "tuple(i*j for i in t1 for j in t2)"
   ]
  },
  {
   "cell_type": "code",
   "execution_count": null,
   "id": "387b7464",
   "metadata": {},
   "outputs": [],
   "source": [
    "question :-   write a one-liner generates a tuple of the squares of number from 1 to 10."
   ]
  },
  {
   "cell_type": "code",
   "execution_count": 29,
   "id": "4c16858e",
   "metadata": {},
   "outputs": [
    {
     "data": {
      "text/plain": [
       "(1, 4, 9, 16, 25, 36, 49, 64, 81, 100)"
      ]
     },
     "execution_count": 29,
     "metadata": {},
     "output_type": "execute_result"
    }
   ],
   "source": [
    "tuple(i**2 for i in range(1,11))"
   ]
  },
  {
   "cell_type": "code",
   "execution_count": 33,
   "id": "af0ee39e",
   "metadata": {},
   "outputs": [
    {
     "data": {
      "text/plain": [
       "(4, 16, 36, 64, 100)"
      ]
     },
     "execution_count": 33,
     "metadata": {},
     "output_type": "execute_result"
    }
   ],
   "source": [
    "tuple (i**2 for i in range(2,11,2))"
   ]
  },
  {
   "cell_type": "code",
   "execution_count": 34,
   "id": "5af99df6",
   "metadata": {},
   "outputs": [
    {
     "data": {
      "text/plain": [
       "(4, 16, 36, 64, 100, 144, 196, 256, 324, 400)"
      ]
     },
     "execution_count": 34,
     "metadata": {},
     "output_type": "execute_result"
    }
   ],
   "source": [
    "tuple(i**2 for i in range(1,21) if i%2==0)"
   ]
  },
  {
   "cell_type": "code",
   "execution_count": 36,
   "id": "a6f0128b",
   "metadata": {},
   "outputs": [
    {
     "data": {
      "text/plain": [
       "(3, 6, 9, 12, 15, 18, 21, 24, 27, 30)"
      ]
     },
     "execution_count": 36,
     "metadata": {},
     "output_type": "execute_result"
    }
   ],
   "source": [
    "tuple ( i for i in range(1,31) if i%3==0)"
   ]
  },
  {
   "cell_type": "code",
   "execution_count": null,
   "id": "696fadaa",
   "metadata": {},
   "outputs": [],
   "source": [
    "question :- Given a list numbers, write one - liner creates a tuple of only the positive numbers ."
   ]
  },
  {
   "cell_type": "code",
   "execution_count": 38,
   "id": "4f0df72d",
   "metadata": {},
   "outputs": [
    {
     "data": {
      "text/plain": [
       "(3, 5)"
      ]
     },
     "execution_count": 38,
     "metadata": {},
     "output_type": "execute_result"
    }
   ],
   "source": [
    "l=[-2,3,-4,5,-6]\n",
    "\n",
    "tuple ( i for i in l if i>0)"
   ]
  },
  {
   "cell_type": "code",
   "execution_count": null,
   "id": "ddabeaf5",
   "metadata": {},
   "outputs": [],
   "source": [
    "# write a program that takes coma - separated number from user input and turns them into a tuple of integers."
   ]
  },
  {
   "cell_type": "code",
   "execution_count": 40,
   "id": "2dc91b05",
   "metadata": {},
   "outputs": [
    {
     "name": "stdout",
     "output_type": "stream",
     "text": [
      "enter the items:2,6,7,8,9,5\n"
     ]
    }
   ],
   "source": [
    "tup=tuple(map(int,input(\"enter the items:\").split(\",\")))"
   ]
  },
  {
   "cell_type": "code",
   "execution_count": 41,
   "id": "4a525ea4",
   "metadata": {},
   "outputs": [],
   "source": [
    "# create a tuple of tuples,  each containing a number ( from 1 to 5 ) and its corresponding index in the tuple.\n"
   ]
  },
  {
   "cell_type": "code",
   "execution_count": 42,
   "id": "0e0cc38f",
   "metadata": {},
   "outputs": [],
   "source": [
    "l=['hemant', 'pooja','naman','tanisha']"
   ]
  },
  {
   "cell_type": "code",
   "execution_count": 43,
   "id": "705b0fb7",
   "metadata": {},
   "outputs": [
    {
     "name": "stdout",
     "output_type": "stream",
     "text": [
      "0 hemant\n",
      "1 pooja\n",
      "2 naman\n",
      "3 tanisha\n"
     ]
    }
   ],
   "source": [
    "for i,j in enumerate(l):\n",
    "    print(i,j)"
   ]
  },
  {
   "cell_type": "code",
   "execution_count": 45,
   "id": "3cc9a1e2",
   "metadata": {},
   "outputs": [
    {
     "data": {
      "text/plain": [
       "((0, 1), (1, 2), (2, 3), (3, 4), (4, 5))"
      ]
     },
     "execution_count": 45,
     "metadata": {},
     "output_type": "execute_result"
    }
   ],
   "source": [
    "tuple((i,j) for i,j in enumerate([1,2,3,4,5]))"
   ]
  },
  {
   "cell_type": "code",
   "execution_count": 47,
   "id": "a9d1a813",
   "metadata": {},
   "outputs": [
    {
     "name": "stdout",
     "output_type": "stream",
     "text": [
      "enter the n:10\n"
     ]
    },
    {
     "data": {
      "text/plain": [
       "((0, 1), (1, 2), (2, 3), (3, 4), (4, 5), (5, 6), (6, 7), (7, 8), (8, 9))"
      ]
     },
     "execution_count": 47,
     "metadata": {},
     "output_type": "execute_result"
    }
   ],
   "source": [
    "n=int(input(\"enter the n:\"))\n",
    "tuple((i,j) for i,j in enumerate(range(1,n)))\n"
   ]
  },
  {
   "cell_type": "code",
   "execution_count": 49,
   "id": "30857622",
   "metadata": {},
   "outputs": [],
   "source": [
    "#  given a sentence , write a one - liner that creates a tuple containing the lenght of each word.\n"
   ]
  },
  {
   "cell_type": "code",
   "execution_count": 51,
   "id": "fc4aef60",
   "metadata": {},
   "outputs": [
    {
     "name": "stdout",
     "output_type": "stream",
     "text": [
      "Enter the sentence: My name is hemant \n"
     ]
    },
    {
     "data": {
      "text/plain": [
       "(2, 4, 2, 6, 0)"
      ]
     },
     "execution_count": 51,
     "metadata": {},
     "output_type": "execute_result"
    }
   ],
   "source": [
    "sentence= input(\"Enter the sentence: \")\n",
    "\n",
    "tuple(len(x) for x in sentence.split(\" \"))"
   ]
  },
  {
   "cell_type": "code",
   "execution_count": 1,
   "id": "a40e2aa7",
   "metadata": {},
   "outputs": [
    {
     "name": "stdout",
     "output_type": "stream",
     "text": [
      "Enter the sentence: \" hello world \"\n"
     ]
    },
    {
     "data": {
      "text/plain": [
       "(1, 5, 5, 1)"
      ]
     },
     "execution_count": 1,
     "metadata": {},
     "output_type": "execute_result"
    }
   ],
   "source": [
    "sentence= input(\"Enter the sentence: \")\n",
    "\n",
    "tuple(len(x) for x in sentence.split(\" \"))"
   ]
  },
  {
   "cell_type": "markdown",
   "id": "7376edf2",
   "metadata": {},
   "source": [
    "# SET DATA TYPE"
   ]
  },
  {
   "cell_type": "code",
   "execution_count": 7,
   "id": "526f3b85",
   "metadata": {},
   "outputs": [
    {
     "name": "stdout",
     "output_type": "stream",
     "text": [
      "{0, 1, 2, 3, 4, 5, 6, 7, 8, 9}\n"
     ]
    }
   ],
   "source": [
    "s=set(range(10))\n",
    "print(s)"
   ]
  },
  {
   "cell_type": "code",
   "execution_count": 8,
   "id": "7b40fb3b",
   "metadata": {},
   "outputs": [
    {
     "name": "stdout",
     "output_type": "stream",
     "text": [
      "{0, 1, 2, 3, 4, 5, 6, 7, 8, 9, 10, 11, 12, 13, 14, 15, 16, 17, 18, 19, 20, 21, 22, 23, 24, 25, 26, 27, 28, 29, 30, 31, 32, 33, 34, 35, 36, 37, 38, 39, 40, 41, 42, 43, 44, 45, 46, 47, 48, 49, 50, 51, 52, 53, 54, 55, 56, 57, 58, 59, 60, 61, 62, 63, 64, 65, 66, 67, 68, 69, 70, 71, 72, 73, 74, 75, 76, 77, 78, 79, 80, 81, 82, 83, 84, 85, 86, 87, 88, 89, 90, 91, 92, 93, 94, 95, 96, 97, 98, 99}\n"
     ]
    }
   ],
   "source": [
    "s=set(range(100))\n",
    "print(s)"
   ]
  },
  {
   "cell_type": "code",
   "execution_count": 3,
   "id": "d48acf65",
   "metadata": {},
   "outputs": [
    {
     "name": "stdout",
     "output_type": "stream",
     "text": [
      "{0, 1, 2, 3, 4, 5, 6, 7, 8, 9, 10, 11, 12, 13, 14}\n"
     ]
    }
   ],
   "source": [
    "s=set(range(15))\n",
    "print(s)"
   ]
  },
  {
   "cell_type": "code",
   "execution_count": 13,
   "id": "2d047209",
   "metadata": {},
   "outputs": [
    {
     "name": "stdout",
     "output_type": "stream",
     "text": [
      "{0, 1, 2, 3, 4, 5, 6, 7, 8, 9, 10, 11, 12, 13, 14, 15, 16, 17, 18, 19, 20, 21, 22, 23, 24, 25, 26, 27, 28, 29, 30, 31, 32, 33, 34, 35, 36, 37, 38, 39, 40, 41, 42, 43, 44, 45, 46, 47, 48, 49, 50}\n"
     ]
    }
   ],
   "source": [
    "s=set(range(51))\n",
    "print(s)"
   ]
  },
  {
   "cell_type": "markdown",
   "id": "3627ffb8",
   "metadata": {},
   "source": [
    "[] list\n",
    "() tuple\n",
    "{} set/ dictinory"
   ]
  },
  {
   "cell_type": "code",
   "execution_count": 10,
   "id": "53cebbd5",
   "metadata": {},
   "outputs": [],
   "source": [
    "l={}\n"
   ]
  },
  {
   "cell_type": "code",
   "execution_count": 12,
   "id": "19a32dec",
   "metadata": {},
   "outputs": [
    {
     "data": {
      "text/plain": [
       "dict"
      ]
     },
     "execution_count": 12,
     "metadata": {},
     "output_type": "execute_result"
    }
   ],
   "source": [
    "type(l)"
   ]
  },
  {
   "cell_type": "code",
   "execution_count": 14,
   "id": "f1b2bc37",
   "metadata": {},
   "outputs": [],
   "source": [
    "s1={2,3,4,5,6}"
   ]
  },
  {
   "cell_type": "code",
   "execution_count": 15,
   "id": "45d398b0",
   "metadata": {},
   "outputs": [
    {
     "data": {
      "text/plain": [
       "set"
      ]
     },
     "execution_count": 15,
     "metadata": {},
     "output_type": "execute_result"
    }
   ],
   "source": [
    "type(s1)"
   ]
  },
  {
   "cell_type": "code",
   "execution_count": 16,
   "id": "e39ff9fb",
   "metadata": {},
   "outputs": [],
   "source": [
    "d1={1:\"hemant\"}"
   ]
  },
  {
   "cell_type": "code",
   "execution_count": 17,
   "id": "db59bd90",
   "metadata": {},
   "outputs": [
    {
     "data": {
      "text/plain": [
       "dict"
      ]
     },
     "execution_count": 17,
     "metadata": {},
     "output_type": "execute_result"
    }
   ],
   "source": [
    "type(d1)"
   ]
  },
  {
   "cell_type": "code",
   "execution_count": 22,
   "id": "8896a0de",
   "metadata": {},
   "outputs": [],
   "source": [
    "s={2,3,1,5,6,4,2,3,7,7,\"hemant\",\"naman\",\"tanisha\"}"
   ]
  },
  {
   "cell_type": "code",
   "execution_count": 23,
   "id": "4443ba30",
   "metadata": {},
   "outputs": [
    {
     "data": {
      "text/plain": [
       "set"
      ]
     },
     "execution_count": 23,
     "metadata": {},
     "output_type": "execute_result"
    }
   ],
   "source": [
    "type(s)"
   ]
  },
  {
   "cell_type": "code",
   "execution_count": 24,
   "id": "8f84398b",
   "metadata": {},
   "outputs": [
    {
     "data": {
      "text/plain": [
       "{1, 2, 3, 4, 5, 6, 7, 'hemant', 'naman', 'tanisha'}"
      ]
     },
     "execution_count": 24,
     "metadata": {},
     "output_type": "execute_result"
    }
   ],
   "source": [
    "s"
   ]
  },
  {
   "cell_type": "code",
   "execution_count": 27,
   "id": "85f8dff5",
   "metadata": {},
   "outputs": [],
   "source": [
    "s1 = {1,True,1,2,3,4,5,2.0,1.0,3.0,4.0}"
   ]
  },
  {
   "cell_type": "code",
   "execution_count": 28,
   "id": "27bc31e6",
   "metadata": {},
   "outputs": [
    {
     "data": {
      "text/plain": [
       "{1, 2, 3, 4, 5}"
      ]
     },
     "execution_count": 28,
     "metadata": {},
     "output_type": "execute_result"
    }
   ],
   "source": [
    "s1"
   ]
  },
  {
   "cell_type": "code",
   "execution_count": 31,
   "id": "c4155120",
   "metadata": {},
   "outputs": [],
   "source": [
    "s1 = { 1.0,0,False,2.0,3,2}"
   ]
  },
  {
   "cell_type": "code",
   "execution_count": 32,
   "id": "a3c839cd",
   "metadata": {},
   "outputs": [
    {
     "data": {
      "text/plain": [
       "{0, 1.0, 2.0, 3}"
      ]
     },
     "execution_count": 32,
     "metadata": {},
     "output_type": "execute_result"
    }
   ],
   "source": [
    "s1"
   ]
  },
  {
   "cell_type": "code",
   "execution_count": 36,
   "id": "6719907b",
   "metadata": {},
   "outputs": [],
   "source": [
    "s2 = {\"hemant\",1,\"naman\",True,0,2.0,1.0,3.0,(1,2)}"
   ]
  },
  {
   "cell_type": "code",
   "execution_count": 37,
   "id": "5bc28f9e",
   "metadata": {},
   "outputs": [
    {
     "data": {
      "text/plain": [
       "{(1, 2), 0, 1, 2.0, 3.0, 'hemant', 'naman'}"
      ]
     },
     "execution_count": 37,
     "metadata": {},
     "output_type": "execute_result"
    }
   ],
   "source": [
    "s2"
   ]
  },
  {
   "cell_type": "code",
   "execution_count": 38,
   "id": "578f4373",
   "metadata": {},
   "outputs": [],
   "source": [
    "# membership operator :"
   ]
  },
  {
   "cell_type": "code",
   "execution_count": 39,
   "id": "7dab19f3",
   "metadata": {},
   "outputs": [
    {
     "data": {
      "text/plain": [
       "{1, 2, 3, 4, 5, 6, 7, 'hemant', 'naman', 'tanisha'}"
      ]
     },
     "execution_count": 39,
     "metadata": {},
     "output_type": "execute_result"
    }
   ],
   "source": [
    "s"
   ]
  },
  {
   "cell_type": "code",
   "execution_count": 40,
   "id": "aef272eb",
   "metadata": {},
   "outputs": [
    {
     "data": {
      "text/plain": [
       "True"
      ]
     },
     "execution_count": 40,
     "metadata": {},
     "output_type": "execute_result"
    }
   ],
   "source": [
    "3 in s"
   ]
  },
  {
   "cell_type": "code",
   "execution_count": 41,
   "id": "40fb85e2",
   "metadata": {},
   "outputs": [
    {
     "data": {
      "text/plain": [
       "False"
      ]
     },
     "execution_count": 41,
     "metadata": {},
     "output_type": "execute_result"
    }
   ],
   "source": [
    "10 in s"
   ]
  },
  {
   "cell_type": "code",
   "execution_count": 47,
   "id": "4d8c0c40",
   "metadata": {},
   "outputs": [
    {
     "data": {
      "text/plain": [
       "False"
      ]
     },
     "execution_count": 47,
     "metadata": {},
     "output_type": "execute_result"
    }
   ],
   "source": [
    "\"sona\"  in s "
   ]
  },
  {
   "cell_type": "code",
   "execution_count": 48,
   "id": "fac09bb4",
   "metadata": {},
   "outputs": [
    {
     "data": {
      "text/plain": [
       "{1, 2, 3, 4, 5, 6, 7, 'hemant', 'naman', 'tanisha'}"
      ]
     },
     "execution_count": 48,
     "metadata": {},
     "output_type": "execute_result"
    }
   ],
   "source": [
    "s"
   ]
  },
  {
   "cell_type": "code",
   "execution_count": 49,
   "id": "7c769781",
   "metadata": {},
   "outputs": [],
   "source": [
    "# lenght of set ()"
   ]
  },
  {
   "cell_type": "code",
   "execution_count": 50,
   "id": "cd7ea697",
   "metadata": {},
   "outputs": [
    {
     "data": {
      "text/plain": [
       "10"
      ]
     },
     "execution_count": 50,
     "metadata": {},
     "output_type": "execute_result"
    }
   ],
   "source": [
    "len(s)"
   ]
  },
  {
   "cell_type": "code",
   "execution_count": 52,
   "id": "c7704d48",
   "metadata": {},
   "outputs": [],
   "source": [
    "# copy  mehtod"
   ]
  },
  {
   "cell_type": "code",
   "execution_count": 53,
   "id": "3ec0afcf",
   "metadata": {},
   "outputs": [],
   "source": [
    "s3= s.copy()"
   ]
  },
  {
   "cell_type": "code",
   "execution_count": 54,
   "id": "47f45d52",
   "metadata": {},
   "outputs": [
    {
     "data": {
      "text/plain": [
       "{1, 2, 3, 4, 5, 6, 7, 'hemant', 'naman', 'tanisha'}"
      ]
     },
     "execution_count": 54,
     "metadata": {},
     "output_type": "execute_result"
    }
   ],
   "source": [
    "s3"
   ]
  },
  {
   "cell_type": "code",
   "execution_count": 55,
   "id": "4bc024ed",
   "metadata": {},
   "outputs": [],
   "source": [
    "#  adding elements to set: add()"
   ]
  },
  {
   "cell_type": "code",
   "execution_count": 56,
   "id": "5c7b77eb",
   "metadata": {},
   "outputs": [
    {
     "data": {
      "text/plain": [
       "{1, 2, 3, 4, 5, 6, 7, 'hemant', 'naman', 'tanisha'}"
      ]
     },
     "execution_count": 56,
     "metadata": {},
     "output_type": "execute_result"
    }
   ],
   "source": [
    "s3"
   ]
  },
  {
   "cell_type": "code",
   "execution_count": 58,
   "id": "f5d52e21",
   "metadata": {},
   "outputs": [],
   "source": [
    "s3.add(77)"
   ]
  },
  {
   "cell_type": "code",
   "execution_count": 59,
   "id": "1e18e816",
   "metadata": {},
   "outputs": [
    {
     "data": {
      "text/plain": [
       "{1, 2, 3, 4, 5, 6, 7, 77, 'hemant', 'naman', 'tanisha'}"
      ]
     },
     "execution_count": 59,
     "metadata": {},
     "output_type": "execute_result"
    }
   ],
   "source": [
    "s3"
   ]
  },
  {
   "cell_type": "code",
   "execution_count": 62,
   "id": "f605ac42",
   "metadata": {},
   "outputs": [],
   "source": [
    "s3.add(\"wizard wolf\")"
   ]
  },
  {
   "cell_type": "code",
   "execution_count": 63,
   "id": "fcbd7ba1",
   "metadata": {},
   "outputs": [
    {
     "data": {
      "text/plain": [
       "{1, 2, 3, 4, 5, 6, 7, 77, 'hemant', 'naman', 'tanisha', 'wizard wolf'}"
      ]
     },
     "execution_count": 63,
     "metadata": {},
     "output_type": "execute_result"
    }
   ],
   "source": [
    "s3"
   ]
  },
  {
   "cell_type": "code",
   "execution_count": 65,
   "id": "a6d20068",
   "metadata": {},
   "outputs": [],
   "source": [
    "s3.add('jemmy',)"
   ]
  },
  {
   "cell_type": "code",
   "execution_count": 66,
   "id": "6c68595e",
   "metadata": {},
   "outputs": [
    {
     "data": {
      "text/plain": [
       "{1, 2, 3, 4, 5, 6, 7, 77, 'hemant', 'jemmy', 'naman', 'tanisha', 'wizard wolf'}"
      ]
     },
     "execution_count": 66,
     "metadata": {},
     "output_type": "execute_result"
    }
   ],
   "source": [
    "s3"
   ]
  },
  {
   "cell_type": "code",
   "execution_count": 67,
   "id": "6498e88f",
   "metadata": {},
   "outputs": [],
   "source": [
    "s3.add(45)"
   ]
  },
  {
   "cell_type": "code",
   "execution_count": 69,
   "id": "797408b9",
   "metadata": {},
   "outputs": [
    {
     "name": "stdout",
     "output_type": "stream",
     "text": [
      "{1, 2, 3, 4, 5, 6, 7, 'naman', 77, 45, 'jemmy', 'hemant', 'wizard wolf', 'tanisha'}\n"
     ]
    }
   ],
   "source": [
    "print(s3)"
   ]
  },
  {
   "cell_type": "code",
   "execution_count": 70,
   "id": "09dcd6c6",
   "metadata": {},
   "outputs": [],
   "source": [
    "# upadte method "
   ]
  },
  {
   "cell_type": "code",
   "execution_count": 73,
   "id": "6f0af00a",
   "metadata": {},
   "outputs": [],
   "source": [
    "s3.update(['Roman',22,'king',21])"
   ]
  },
  {
   "cell_type": "code",
   "execution_count": 75,
   "id": "0570dd20",
   "metadata": {},
   "outputs": [
    {
     "name": "stdout",
     "output_type": "stream",
     "text": [
      "{1, 2, 3, 4, 5, 6, 7, 'naman', 77, 45, 'jemmy', 'king', 22, 21, 'hemant', 'wizard wolf', 'tanisha', 'Roman'}\n"
     ]
    }
   ],
   "source": [
    "print(s3)"
   ]
  },
  {
   "cell_type": "code",
   "execution_count": 76,
   "id": "c5dbdd54",
   "metadata": {},
   "outputs": [],
   "source": [
    "s3.update('himasnhu')"
   ]
  },
  {
   "cell_type": "code",
   "execution_count": 78,
   "id": "bc4365e6",
   "metadata": {},
   "outputs": [
    {
     "name": "stdout",
     "output_type": "stream",
     "text": [
      "{1, 2, 3, 4, 5, 6, 7, 'i', 21, 22, 'hemant', 'Roman', 'n', 'u', 'naman', 's', 45, 'king', 'tanisha', 'h', 77, 'm', 'a', 'jemmy', 'wizard wolf'}\n"
     ]
    }
   ],
   "source": [
    "print(s3)"
   ]
  },
  {
   "cell_type": "code",
   "execution_count": 79,
   "id": "78a5d3c5",
   "metadata": {},
   "outputs": [],
   "source": [
    "s3.remove('hemant')"
   ]
  },
  {
   "cell_type": "code",
   "execution_count": 81,
   "id": "7e0bd635",
   "metadata": {},
   "outputs": [
    {
     "name": "stdout",
     "output_type": "stream",
     "text": [
      "{1, 2, 3, 4, 5, 6, 7, 'i', 21, 22, 'Roman', 'n', 'u', 'naman', 's', 45, 'king', 'tanisha', 'h', 77, 'm', 'a', 'jemmy', 'wizard wolf'}\n"
     ]
    }
   ],
   "source": [
    "print(s3)"
   ]
  },
  {
   "cell_type": "code",
   "execution_count": 84,
   "id": "09e5c3d8",
   "metadata": {},
   "outputs": [
    {
     "ename": "KeyError",
     "evalue": "'spider men'",
     "output_type": "error",
     "traceback": [
      "\u001b[1;31m---------------------------------------------------------------------------\u001b[0m",
      "\u001b[1;31mKeyError\u001b[0m                                  Traceback (most recent call last)",
      "Cell \u001b[1;32mIn[84], line 1\u001b[0m\n\u001b[1;32m----> 1\u001b[0m s3\u001b[38;5;241m.\u001b[39mremove(\u001b[38;5;124m'\u001b[39m\u001b[38;5;124mspider men\u001b[39m\u001b[38;5;124m'\u001b[39m)\n",
      "\u001b[1;31mKeyError\u001b[0m: 'spider men'"
     ]
    }
   ],
   "source": [
    "s3.remove('spider men')"
   ]
  },
  {
   "cell_type": "code",
   "execution_count": 85,
   "id": "2f24b409",
   "metadata": {},
   "outputs": [],
   "source": [
    "s3.discard('spider men')"
   ]
  },
  {
   "cell_type": "code",
   "execution_count": 87,
   "id": "8483fc27",
   "metadata": {},
   "outputs": [
    {
     "name": "stdout",
     "output_type": "stream",
     "text": [
      "{1, 2, 3, 4, 5, 6, 7, 'i', 21, 22, 'Roman', 'n', 'u', 'naman', 's', 45, 'king', 'tanisha', 'h', 77, 'm', 'a', 'jemmy', 'wizard wolf'}\n"
     ]
    }
   ],
   "source": [
    "print(s3)"
   ]
  },
  {
   "cell_type": "code",
   "execution_count": 94,
   "id": "7570fa8e",
   "metadata": {},
   "outputs": [
    {
     "data": {
      "text/plain": [
       "2"
      ]
     },
     "execution_count": 94,
     "metadata": {},
     "output_type": "execute_result"
    }
   ],
   "source": [
    "s3.pop()"
   ]
  },
  {
   "cell_type": "code",
   "execution_count": 95,
   "id": "15e6e40d",
   "metadata": {},
   "outputs": [
    {
     "name": "stdout",
     "output_type": "stream",
     "text": [
      "{3, 4, 5, 6, 7, 'i', 21, 22, 'Roman', 'n', 'u', 'naman', 's', 45, 'king', 'tanisha', 'h', 77, 'm', 'a', 'jemmy', 'wizard wolf'}\n"
     ]
    }
   ],
   "source": [
    "print(s3)"
   ]
  },
  {
   "cell_type": "code",
   "execution_count": 96,
   "id": "0ef62d0a",
   "metadata": {},
   "outputs": [],
   "source": [
    "s3.clear()"
   ]
  },
  {
   "cell_type": "code",
   "execution_count": 97,
   "id": "32923e4a",
   "metadata": {},
   "outputs": [
    {
     "name": "stdout",
     "output_type": "stream",
     "text": [
      "set()\n"
     ]
    }
   ],
   "source": [
    "print(s3)"
   ]
  },
  {
   "cell_type": "code",
   "execution_count": 98,
   "id": "c1b38112",
   "metadata": {},
   "outputs": [],
   "source": [
    "del s3"
   ]
  },
  {
   "cell_type": "code",
   "execution_count": 99,
   "id": "ddd4c17a",
   "metadata": {},
   "outputs": [
    {
     "ename": "NameError",
     "evalue": "name 's3' is not defined",
     "output_type": "error",
     "traceback": [
      "\u001b[1;31m---------------------------------------------------------------------------\u001b[0m",
      "\u001b[1;31mNameError\u001b[0m                                 Traceback (most recent call last)",
      "Cell \u001b[1;32mIn[99], line 1\u001b[0m\n\u001b[1;32m----> 1\u001b[0m s3\n",
      "\u001b[1;31mNameError\u001b[0m: name 's3' is not defined"
     ]
    }
   ],
   "source": [
    "s3"
   ]
  },
  {
   "cell_type": "markdown",
   "id": "ec35c795",
   "metadata": {},
   "source": [
    "# SET OPERATION"
   ]
  },
  {
   "cell_type": "code",
   "execution_count": 1,
   "id": "a6229093",
   "metadata": {},
   "outputs": [],
   "source": [
    "s1={'a','b','c,','d',3}\n",
    "s2={1,2,3}"
   ]
  },
  {
   "cell_type": "code",
   "execution_count": 2,
   "id": "52057660",
   "metadata": {},
   "outputs": [
    {
     "data": {
      "text/plain": [
       "{1, 2, 3, 'a', 'b', 'c,', 'd'}"
      ]
     },
     "execution_count": 2,
     "metadata": {},
     "output_type": "execute_result"
    }
   ],
   "source": [
    "s1.union(s2)"
   ]
  },
  {
   "cell_type": "code",
   "execution_count": 3,
   "id": "1ede851b",
   "metadata": {},
   "outputs": [
    {
     "data": {
      "text/plain": [
       "{1, 2, 3, 'a', 'b', 'c,', 'd'}"
      ]
     },
     "execution_count": 3,
     "metadata": {},
     "output_type": "execute_result"
    }
   ],
   "source": [
    "s1|s2"
   ]
  },
  {
   "cell_type": "code",
   "execution_count": 4,
   "id": "2cdab644",
   "metadata": {},
   "outputs": [
    {
     "data": {
      "text/plain": [
       "{3, 'a', 'b', 'c,', 'd'}"
      ]
     },
     "execution_count": 4,
     "metadata": {},
     "output_type": "execute_result"
    }
   ],
   "source": [
    "s1"
   ]
  },
  {
   "cell_type": "code",
   "execution_count": 5,
   "id": "92f27b46",
   "metadata": {},
   "outputs": [
    {
     "data": {
      "text/plain": [
       "{1, 2, 3}"
      ]
     },
     "execution_count": 5,
     "metadata": {},
     "output_type": "execute_result"
    }
   ],
   "source": [
    "s2"
   ]
  },
  {
   "cell_type": "code",
   "execution_count": 6,
   "id": "ef871975",
   "metadata": {},
   "outputs": [],
   "source": [
    "s1.update(s2)"
   ]
  },
  {
   "cell_type": "code",
   "execution_count": 7,
   "id": "8592b483",
   "metadata": {},
   "outputs": [
    {
     "data": {
      "text/plain": [
       "{1, 2, 3, 'a', 'b', 'c,', 'd'}"
      ]
     },
     "execution_count": 7,
     "metadata": {},
     "output_type": "execute_result"
    }
   ],
   "source": [
    "s1"
   ]
  },
  {
   "cell_type": "markdown",
   "id": "8441ad07",
   "metadata": {},
   "source": [
    "# Intersection () Method"
   ]
  },
  {
   "cell_type": "code",
   "execution_count": 8,
   "id": "aaacdec0",
   "metadata": {},
   "outputs": [],
   "source": [
    "s1={'a','b','c',3}\n",
    "s2={1,2,3,}"
   ]
  },
  {
   "cell_type": "code",
   "execution_count": 9,
   "id": "b7c7a8f4",
   "metadata": {},
   "outputs": [
    {
     "data": {
      "text/plain": [
       "{3}"
      ]
     },
     "execution_count": 9,
     "metadata": {},
     "output_type": "execute_result"
    }
   ],
   "source": [
    "s1&s2"
   ]
  },
  {
   "cell_type": "code",
   "execution_count": 10,
   "id": "1de7da30",
   "metadata": {},
   "outputs": [],
   "source": [
    "A={'apple','kiwi','mango','orange'}\n",
    "B={'nike','puma','kiwi'}"
   ]
  },
  {
   "cell_type": "code",
   "execution_count": 11,
   "id": "bc9916aa",
   "metadata": {},
   "outputs": [
    {
     "data": {
      "text/plain": [
       "{'kiwi'}"
      ]
     },
     "execution_count": 11,
     "metadata": {},
     "output_type": "execute_result"
    }
   ],
   "source": [
    "A&B"
   ]
  },
  {
   "cell_type": "code",
   "execution_count": 12,
   "id": "b6542c11",
   "metadata": {},
   "outputs": [
    {
     "data": {
      "text/plain": [
       "{'apple', 'mango', 'orange'}"
      ]
     },
     "execution_count": 12,
     "metadata": {},
     "output_type": "execute_result"
    }
   ],
   "source": [
    "A.difference(B)"
   ]
  },
  {
   "cell_type": "code",
   "execution_count": 14,
   "id": "9b7ee679",
   "metadata": {},
   "outputs": [
    {
     "data": {
      "text/plain": [
       "{'nike', 'puma'}"
      ]
     },
     "execution_count": 14,
     "metadata": {},
     "output_type": "execute_result"
    }
   ],
   "source": [
    "B.difference(A)"
   ]
  },
  {
   "cell_type": "code",
   "execution_count": 15,
   "id": "ba1cd0fc",
   "metadata": {},
   "outputs": [
    {
     "data": {
      "text/plain": [
       "{'apple', 'mango', 'orange'}"
      ]
     },
     "execution_count": 15,
     "metadata": {},
     "output_type": "execute_result"
    }
   ],
   "source": [
    "A-B"
   ]
  },
  {
   "cell_type": "code",
   "execution_count": 16,
   "id": "dc63855c",
   "metadata": {},
   "outputs": [
    {
     "data": {
      "text/plain": [
       "{'nike', 'puma'}"
      ]
     },
     "execution_count": 16,
     "metadata": {},
     "output_type": "execute_result"
    }
   ],
   "source": [
    "B-A"
   ]
  },
  {
   "cell_type": "markdown",
   "id": "bdcd3c4d",
   "metadata": {},
   "source": [
    "# Symmetric difference () Method"
   ]
  },
  {
   "cell_type": "code",
   "execution_count": 17,
   "id": "53bc9402",
   "metadata": {},
   "outputs": [],
   "source": [
    "A={'apple','kiwi','mango','orange'}\n",
    "B={'nike','puma','kiwi'}"
   ]
  },
  {
   "cell_type": "code",
   "execution_count": 18,
   "id": "a5c5857a",
   "metadata": {},
   "outputs": [
    {
     "data": {
      "text/plain": [
       "{'apple', 'mango', 'nike', 'orange', 'puma'}"
      ]
     },
     "execution_count": 18,
     "metadata": {},
     "output_type": "execute_result"
    }
   ],
   "source": [
    "A.symmetric_difference(B)"
   ]
  },
  {
   "cell_type": "markdown",
   "id": "d9157ac3",
   "metadata": {},
   "source": [
    "# Difference update"
   ]
  },
  {
   "cell_type": "code",
   "execution_count": 20,
   "id": "2a383e62",
   "metadata": {},
   "outputs": [],
   "source": [
    "A.difference_update(B)"
   ]
  },
  {
   "cell_type": "code",
   "execution_count": 21,
   "id": "a8c91ad9",
   "metadata": {},
   "outputs": [
    {
     "data": {
      "text/plain": [
       "{'apple', 'mango', 'orange'}"
      ]
     },
     "execution_count": 21,
     "metadata": {},
     "output_type": "execute_result"
    }
   ],
   "source": [
    "A"
   ]
  },
  {
   "cell_type": "code",
   "execution_count": 22,
   "id": "88c167e8",
   "metadata": {},
   "outputs": [
    {
     "data": {
      "text/plain": [
       "{'kiwi', 'nike', 'puma'}"
      ]
     },
     "execution_count": 22,
     "metadata": {},
     "output_type": "execute_result"
    }
   ],
   "source": [
    "B"
   ]
  },
  {
   "cell_type": "markdown",
   "id": "30a9670a",
   "metadata": {},
   "source": [
    "# Intersection_update()"
   ]
  },
  {
   "cell_type": "code",
   "execution_count": 26,
   "id": "6007a426",
   "metadata": {},
   "outputs": [],
   "source": [
    "a={'hemant','naman','vinit',21,22}\n",
    "b={'akash', 21, 22,'hemant','puma','nike'}"
   ]
  },
  {
   "cell_type": "code",
   "execution_count": 27,
   "id": "caea2812",
   "metadata": {},
   "outputs": [
    {
     "data": {
      "text/plain": [
       "{21, 22, 'hemant'}"
      ]
     },
     "execution_count": 27,
     "metadata": {},
     "output_type": "execute_result"
    }
   ],
   "source": [
    "a.intersection(b)"
   ]
  },
  {
   "cell_type": "code",
   "execution_count": 28,
   "id": "3449e2fb",
   "metadata": {},
   "outputs": [],
   "source": [
    "a.intersection_update(b)"
   ]
  },
  {
   "cell_type": "code",
   "execution_count": 29,
   "id": "9733058f",
   "metadata": {},
   "outputs": [
    {
     "data": {
      "text/plain": [
       "{21, 22, 'hemant'}"
      ]
     },
     "execution_count": 29,
     "metadata": {},
     "output_type": "execute_result"
    }
   ],
   "source": [
    "a"
   ]
  },
  {
   "cell_type": "code",
   "execution_count": 30,
   "id": "78a9d07b",
   "metadata": {},
   "outputs": [
    {
     "data": {
      "text/plain": [
       "{21, 22, 'akash', 'hemant', 'nike', 'puma'}"
      ]
     },
     "execution_count": 30,
     "metadata": {},
     "output_type": "execute_result"
    }
   ],
   "source": [
    "b"
   ]
  },
  {
   "cell_type": "markdown",
   "id": "86527bf0",
   "metadata": {},
   "source": [
    "# Symmertic_difference_update"
   ]
  },
  {
   "cell_type": "code",
   "execution_count": 38,
   "id": "3b2322dd",
   "metadata": {},
   "outputs": [],
   "source": [
    "x = {'apple','banana','kiwi','orange'}\n",
    "y = {'apple','google','microsoft'}"
   ]
  },
  {
   "cell_type": "code",
   "execution_count": 39,
   "id": "fcd15e2e",
   "metadata": {},
   "outputs": [],
   "source": [
    "x.symmetric_difference_update(y)"
   ]
  },
  {
   "cell_type": "code",
   "execution_count": 40,
   "id": "78637177",
   "metadata": {},
   "outputs": [
    {
     "name": "stdout",
     "output_type": "stream",
     "text": [
      "{'google', 'banana', 'microsoft', 'orange', 'kiwi'}\n"
     ]
    }
   ],
   "source": [
    "print(x)"
   ]
  },
  {
   "cell_type": "code",
   "execution_count": 41,
   "id": "0f9cd78f",
   "metadata": {},
   "outputs": [
    {
     "name": "stdout",
     "output_type": "stream",
     "text": [
      "{'apple', 'google', 'microsoft'}\n"
     ]
    }
   ],
   "source": [
    "print(y)"
   ]
  },
  {
   "cell_type": "code",
   "execution_count": 42,
   "id": "5e5accb2",
   "metadata": {},
   "outputs": [
    {
     "data": {
      "text/plain": [
       "False"
      ]
     },
     "execution_count": 42,
     "metadata": {},
     "output_type": "execute_result"
    }
   ],
   "source": [
    "x.isdisjoint(y)"
   ]
  },
  {
   "cell_type": "code",
   "execution_count": 43,
   "id": "5caa81dc",
   "metadata": {},
   "outputs": [],
   "source": [
    "x = {'apple','banana','kiwi','orange'}\n",
    "y = {'facebook','google','microsoft'}"
   ]
  },
  {
   "cell_type": "code",
   "execution_count": 44,
   "id": "80849610",
   "metadata": {},
   "outputs": [
    {
     "data": {
      "text/plain": [
       "True"
      ]
     },
     "execution_count": 44,
     "metadata": {},
     "output_type": "execute_result"
    }
   ],
   "source": [
    "x.isdisjoint(y)"
   ]
  },
  {
   "cell_type": "markdown",
   "id": "9b81ead4",
   "metadata": {},
   "source": [
    "# issubset"
   ]
  },
  {
   "cell_type": "code",
   "execution_count": 46,
   "id": "05b9a574",
   "metadata": {},
   "outputs": [],
   "source": [
    "A={1,2,3}\n",
    "B={1,2,3,4,5,6}"
   ]
  },
  {
   "cell_type": "code",
   "execution_count": 47,
   "id": "7816b291",
   "metadata": {},
   "outputs": [
    {
     "data": {
      "text/plain": [
       "True"
      ]
     },
     "execution_count": 47,
     "metadata": {},
     "output_type": "execute_result"
    }
   ],
   "source": [
    "A.issubset(B)"
   ]
  },
  {
   "cell_type": "code",
   "execution_count": 48,
   "id": "0bd8862d",
   "metadata": {},
   "outputs": [
    {
     "data": {
      "text/plain": [
       "False"
      ]
     },
     "execution_count": 48,
     "metadata": {},
     "output_type": "execute_result"
    }
   ],
   "source": [
    "B.issubset(A)"
   ]
  },
  {
   "cell_type": "code",
   "execution_count": 49,
   "id": "89ebb0f7",
   "metadata": {},
   "outputs": [
    {
     "data": {
      "text/plain": [
       "False"
      ]
     },
     "execution_count": 49,
     "metadata": {},
     "output_type": "execute_result"
    }
   ],
   "source": [
    "A.issuperset(B)"
   ]
  },
  {
   "cell_type": "code",
   "execution_count": null,
   "id": "e8c61854",
   "metadata": {},
   "outputs": [],
   "source": [
    "#loop in set "
   ]
  }
 ],
 "metadata": {
  "kernelspec": {
   "display_name": "Python 3 (ipykernel)",
   "language": "python",
   "name": "python3"
  },
  "language_info": {
   "codemirror_mode": {
    "name": "ipython",
    "version": 3
   },
   "file_extension": ".py",
   "mimetype": "text/x-python",
   "name": "python",
   "nbconvert_exporter": "python",
   "pygments_lexer": "ipython3",
   "version": "3.11.5"
  }
 },
 "nbformat": 4,
 "nbformat_minor": 5
}
